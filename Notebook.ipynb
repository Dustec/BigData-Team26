{
 "cells": [
  {
   "cell_type": "markdown",
   "metadata": {
    "id": "hfMQuxm2g1Iz"
   },
   "source": [
    "#**Maestría en Inteligencia Artificial Aplicada**\n",
    "##**Curso: Análisis de Grandes Volúmenes de Datos**\n",
    "###Tecnológico de Monterrey\n",
    "###Prof. Iván Olmos\n",
    "\n",
    "## **Actividad Semana 03**\n",
    "\n",
    "###**Proyecto: Lectura, Escritura, Archivos de Big Data PySpark**\n",
    "\n",
    "##### Nombres y matrículas de los integrantes del equipo:\n",
    "*   Victoria Melgarejo Cabrera - A01795030\n",
    "*   Héctor Alejandro Alvarez Rosas        - A01796262\n",
    "*   Andrea Xcaret Gomez Alfaro        - A01796384\n",
    "*   Mario Guillen De La Torre       - A01796701"
   ]
  },
  {
   "cell_type": "markdown",
   "metadata": {
    "id": "-l5jqG4fhkRo"
   },
   "source": [
    "\n",
    "---\n",
    "\n",
    "\n",
    "#### **Descripción de la Actividad:**\n",
    "\n",
    "Identificar técnicas de muestreo orientadas al Big Data mediante la implementación de código en PySpark, permitiendo la construcción de una muestra representativa de la población objetivo del proyecto de investigación.\n",
    "\n",
    "### **Base de datos utilizada**\n",
    "\n",
    "El dataset seleccionado para el presente estudio es el Chicago Taxi Trips Dataset, una base de datos pública proporcionada por la City of Chicago's Open Data Portal. Este conjunto de datos contiene información detallada sobre los viajes realizados por taxis en la ciudad de Chicago, incluyendo datos sobre el punto de partida y llegada, duración del viaje, distancia recorrida, tarifas, y métodos de pago utilizados.\n",
    "El dataset forma parte de la iniciativa de gobierno abierto de Chicago, que busca fomentar el uso de datos públicos para apoyar la investigación académica, el desarrollo de políticas públicas basadas en datos, y la innovación tecnológica en el ámbito urbano. La información está disponible públicamente y puede ser accedida a través del siguiente enlace:\n",
    "https://data.cityofchicago.org/Transportation/Taxi-Trips-2024-/ajtu-isnz/about_data\n",
    "\n",
    "---"
   ]
  },
  {
   "cell_type": "markdown",
   "metadata": {
    "id": "dcCnhJwyiTyu",
    "jp-MarkdownHeadingCollapsed": true
   },
   "source": [
    "### **Importación de Librerías**"
   ]
  },
  {
   "cell_type": "code",
   "execution_count": 1,
   "metadata": {
    "id": "XXKGZB4SiQjr"
   },
   "outputs": [],
   "source": [
    "from pyspark.sql import SparkSession\n",
    "from pyspark.sql.functions import col, isnan, when, count, percentile_approx, lit,round\n",
    "from pyspark.sql.functions import col, sum as spark_sum\n",
    "import matplotlib.pyplot as plt\n",
    "import seaborn as sns\n",
    "import scipy.stats as stats\n",
    "from pyspark.sql.functions import broadcast\n",
    "from pyspark.sql import functions as F\n",
    "from itertools import product\n",
    "import pandas as pd"
   ]
  },
  {
   "cell_type": "markdown",
   "metadata": {
    "id": "LS8Q2W_nioUA",
    "jp-MarkdownHeadingCollapsed": true
   },
   "source": [
    "### **Creación de la Sesión Spark**"
   ]
  },
  {
   "cell_type": "code",
   "execution_count": 2,
   "metadata": {
    "id": "eEuzkb88ism7"
   },
   "outputs": [],
   "source": [
    "spark = SparkSession.builder \\\n",
    "    .appName(\"ChicagoTaxyTripsAnalysis\") \\\n",
    "     .config(\"spark.executor.memory\", \"4g\") \\\n",
    "    .config(\"spark.driver.memory\", \"4g\") \\\n",
    "    .config(\"spark.python.worker.timeout\", \"600\") \\\n",
    "    .config(\"spark.python.worker.retries\", \"3\") \\\n",
    "    .getOrCreate()"
   ]
  },
  {
   "cell_type": "code",
   "execution_count": 3,
   "metadata": {
    "colab": {
     "base_uri": "https://localhost:8080/"
    },
    "id": "Q81a5PRN5X-I",
    "outputId": "008f0159-4dc6-4a44-b8c6-b5e2d157db73"
   },
   "outputs": [],
   "source": [
    "# ID del archivo en Google Drive\n",
    "filename = \"Taxi_Trips__2024-__20250426.csv\"\n",
    "\n",
    "# Ruta local donde quieres guardar el archivo\n",
    "local_path = f\"C:/Users/mario/Maestria/Grandes Cantidades de Datos/{filename}\"\n",
    "\n",
    "# Carga de archivo CSV\n",
    "df = spark.read.csv(local_path, header=True, inferSchema=True)"
   ]
  },
  {
   "cell_type": "code",
   "execution_count": 4,
   "metadata": {
    "colab": {
     "base_uri": "https://localhost:8080/"
    },
    "id": "a9j_i4-qkfh4",
    "outputId": "71efb4b6-56bd-48aa-ff2d-38e7e26bff54"
   },
   "outputs": [
    {
     "name": "stdout",
     "output_type": "stream",
     "text": [
      "Número de registros: 7917844\n",
      "Número de columnas: 23\n"
     ]
    }
   ],
   "source": [
    "print(\"Número de registros:\", df.count())\n",
    "print(\"Número de columnas:\", len(df.columns))"
   ]
  },
  {
   "cell_type": "markdown",
   "metadata": {
    "id": "uzhfCehBi5hF",
    "jp-MarkdownHeadingCollapsed": true
   },
   "source": [
    "### **Definición de Funciones**"
   ]
  },
  {
   "cell_type": "code",
   "execution_count": 5,
   "metadata": {},
   "outputs": [],
   "source": [
    "## df - DataFrame, column - String with column name, percentage - percentage of values to group under Other\n",
    "def percentageOfValues(df, column):\n",
    "    total_count = df.count()\n",
    "    df = df.groupBy(column).agg(count(\"*\").alias(\"count\")).withColumn(\"percentage\",round((col(\"count\")/lit(total_count)) * 100,2))\n",
    "    return df\n",
    "\n",
    "def replaceRareValues(df, column, percentage):\n",
    "    \n",
    "    total_count = df.count()\n",
    "    value_counts = (\n",
    "        df.groupBy(column)\n",
    "        .agg(count(\"*\").alias(\"count\"))\n",
    "        .withColumn(\"percentage\", (col(\"count\") / lit(total_count)) * 100)\n",
    "    )\n",
    "    frequent = value_counts.filter(col(\"percentage\") >= percentage).select(column)\n",
    "\n",
    "    df_modified = df.join(broadcast(frequent).withColumnRenamed(column, \"keep_val\"), on=df[column] == col(\"keep_val\"), how=\"left\") \\\n",
    "           .withColumn(column, when(col(\"keep_val\").isNotNull(), col(column)).otherwise(lit(\"Other\"))) \\\n",
    "           .drop(\"keep_val\")\n",
    "\n",
    "    return df_modified\n",
    "\n",
    "\n",
    "# Función para eliminar los valores atípicos de un DataFrame y modificarlo\n",
    "def count_outliers(df, column):\n",
    "    # Calcular los percentiles Q1 y Q3 para la columna\n",
    "    percentiles = df.approxQuantile(column, [0.25, 0.75], 0.05)  # 5% de error en el cálculo\n",
    "    Q1 = percentiles[0]\n",
    "    Q3 = percentiles[1]\n",
    "\n",
    "    # Calcular el IQR\n",
    "    IQR = Q3 - Q1\n",
    "\n",
    "    # Definir los límites inferior y superior para los valores atípicos\n",
    "    lower_limit = Q1 - 1.5 * IQR\n",
    "    upper_limit = Q3 + 1.5 * IQR\n",
    "\n",
    "    return df.filter((col(column) < lower_limit) & (col(column) > upper_limit)).count()\n",
    "\n",
    "def show_outliers(df, column):\n",
    "    # Calcular los percentiles Q1 y Q3 para la columna\n",
    "    percentiles = df.approxQuantile(column, [0.25, 0.75], 0.05)  # 5% de error en el cálculo\n",
    "    Q1 = percentiles[0]\n",
    "    Q3 = percentiles[1]\n",
    "\n",
    "    # Calcular el IQR\n",
    "    IQR = Q3 - Q1\n",
    "\n",
    "    # Definir los límites inferior y superior para los valores atípicos\n",
    "    lower_limit = Q1 - 1.5 * IQR\n",
    "    upper_limit = Q3 + 1.5 * IQR\n",
    "\n",
    "    return df.filter((col(column) < lower_limit) & (col(column) > upper_limit)).show()\n",
    "\n",
    "# Función para eliminar los valores atípicos de un DataFrame y modificarlo\n",
    "def remove_outliers_inplace(df, column):\n",
    "    # Calcular los percentiles Q1 y Q3 para la columna\n",
    "    percentiles = df.approxQuantile(column, [0.25, 0.75], 0.05)  # 5% de error en el cálculo\n",
    "    Q1 = percentiles[0]\n",
    "    Q3 = percentiles[1]\n",
    "\n",
    "    # Calcular el IQR\n",
    "    IQR = Q3 - Q1\n",
    "\n",
    "    # Definir los límites inferior y superior para los valores atípicos\n",
    "    lower_limit = Q1 - 1.5 * IQR\n",
    "    upper_limit = Q3 + 1.5 * IQR\n",
    "\n",
    "    # Filtrar el DataFrame para eliminar los valores atípicos y modificar el DataFrame original\n",
    "    df = df.filter((col(column) >= lower_limit) & (col(column) <= upper_limit))\n",
    "\n",
    "    return df\n",
    "\n",
    "def categorical_summary(df, column):\n",
    "    # Total count of non-null values\n",
    "    count = df.filter(F.col(column).isNotNull()).count()\n",
    "\n",
    "    # Count of distinct values\n",
    "    unique = df.select(column).distinct().count()\n",
    "\n",
    "    # Most frequent value and its frequency\n",
    "    top_row = (df.groupBy(column)\n",
    "                 .agg(F.count(\"*\").alias(\"freq\"))\n",
    "                 .orderBy(F.desc(\"freq\"))\n",
    "                 .first())\n",
    "\n",
    "    top = top_row[column] if top_row else None\n",
    "    freq = top_row[\"freq\"] if top_row else 0\n",
    "\n",
    "    # Create a summary dictionary\n",
    "    summary = {\n",
    "        \"count\": count,\n",
    "        \"unique\": unique,\n",
    "        \"top\": top,\n",
    "        \"freq\": freq\n",
    "    }\n",
    "\n",
    "    return summary"
   ]
  },
  {
   "cell_type": "markdown",
   "metadata": {
    "jp-MarkdownHeadingCollapsed": true
   },
   "source": [
    "### **Análisis y Transformación de Variables Características**"
   ]
  },
  {
   "cell_type": "code",
   "execution_count": 6,
   "metadata": {},
   "outputs": [],
   "source": [
    "total_count = df.count()"
   ]
  },
  {
   "cell_type": "code",
   "execution_count": null,
   "metadata": {},
   "outputs": [],
   "source": [
    "categorical_summary(df,\"Dropoff Community Area\")"
   ]
  },
  {
   "cell_type": "code",
   "execution_count": 7,
   "metadata": {},
   "outputs": [
    {
     "name": "stdout",
     "output_type": "stream",
     "text": [
      "+----------------------+------+----------+\n",
      "|Dropoff Community Area| count|percentage|\n",
      "+----------------------+------+----------+\n",
      "|                    31| 23632|       0.3|\n",
      "|                    65|  4253|      0.05|\n",
      "|                    53| 18630|      0.24|\n",
      "|                    34| 31027|      0.39|\n",
      "|                    28|742125|      9.37|\n",
      "|                    76|409654|      5.17|\n",
      "|                    27| 11710|      0.15|\n",
      "|                    26|  5011|      0.06|\n",
      "|                    44| 47285|       0.6|\n",
      "|                    12| 14106|      0.18|\n",
      "|                    22| 83931|      1.06|\n",
      "|                    47|  3380|      0.04|\n",
      "|                  NULL|742953|      9.38|\n",
      "|                     1| 57171|      0.72|\n",
      "|                    52|  2987|      0.04|\n",
      "|                    13| 17030|      0.22|\n",
      "|                     6|342680|      4.33|\n",
      "|                    16| 52925|      0.67|\n",
      "|                     3|148623|      1.88|\n",
      "|                    40| 13365|      0.17|\n",
      "+----------------------+------+----------+\n",
      "only showing top 20 rows\n",
      "\n",
      "+----------------------+-------+----------+\n",
      "|Dropoff Community Area|  count|percentage|\n",
      "+----------------------+-------+----------+\n",
      "|                     8|1794740|     22.67|\n",
      "|                    28| 742125|      9.37|\n",
      "|                 Other|3703753|     46.78|\n",
      "|                    32|1267572|     16.01|\n",
      "|                    76| 409654|      5.17|\n",
      "+----------------------+-------+----------+\n",
      "\n"
     ]
    }
   ],
   "source": [
    "percentageOfValues(df, \"Dropoff Community Area\").show()\n",
    "percentageOfValues(replaceRareValues(df, \"Dropoff Community Area\",5), \"Dropoff Community Area\").show()\n",
    "percentageOfValues(replaceRareValues(df, \"Dropoff Community Area\",5), \"Dropoff Community Area\").toPandas().to_csv(\"C:/Users/mario/Maestria/Grandes Cantidades de Datos/VariablesCaracteristicas/DropoffCommunityAreaGrouped.csv\", index=False)\n",
    "dfTransformed = replaceRareValues(df, \"Dropoff Community Area\",5)"
   ]
  },
  {
   "cell_type": "code",
   "execution_count": null,
   "metadata": {},
   "outputs": [],
   "source": [
    "categorical_summary(df,\"Pickup Community Area\")"
   ]
  },
  {
   "cell_type": "code",
   "execution_count": 8,
   "metadata": {},
   "outputs": [
    {
     "name": "stdout",
     "output_type": "stream",
     "text": [
      "+---------------------+-------+----------+\n",
      "|Pickup Community Area|  count|percentage|\n",
      "+---------------------+-------+----------+\n",
      "|                   31|  11065|      0.14|\n",
      "|                   65|   3004|      0.04|\n",
      "|                   53|  25630|      0.32|\n",
      "|                   34|  20178|      0.25|\n",
      "|                   28| 752297|       9.5|\n",
      "|                   76|1681489|     21.24|\n",
      "|                   26|   3625|      0.05|\n",
      "|                   27|   7150|      0.09|\n",
      "|                   44|  45537|      0.58|\n",
      "|                   12|  11949|      0.15|\n",
      "|                   22|  34547|      0.44|\n",
      "|                   47|   2907|      0.04|\n",
      "|                 NULL| 226777|      2.86|\n",
      "|                    1|  44780|      0.57|\n",
      "|                   52|   5595|      0.07|\n",
      "|                   13|  11117|      0.14|\n",
      "|                    6| 251015|      3.17|\n",
      "|                   16|  35522|      0.45|\n",
      "|                    3| 125293|      1.58|\n",
      "|                   40|  12125|      0.15|\n",
      "+---------------------+-------+----------+\n",
      "only showing top 20 rows\n",
      "\n",
      "+---------------------+-------+----------+\n",
      "|Pickup Community Area|  count|percentage|\n",
      "+---------------------+-------+----------+\n",
      "|                    8|1658939|     20.95|\n",
      "|                   28| 752297|       9.5|\n",
      "|                Other|2570284|     32.46|\n",
      "|                   32|1254835|     15.85|\n",
      "|                   76|1681489|     21.24|\n",
      "+---------------------+-------+----------+\n",
      "\n"
     ]
    }
   ],
   "source": [
    "percentageOfValues(df, \"Pickup Community Area\").show()\n",
    "percentageOfValues(replaceRareValues(df, \"Pickup Community Area\",5), \"Pickup Community Area\").show()\n",
    "percentageOfValues(replaceRareValues(df, \"Pickup Community Area\",5), \"Pickup Community Area\").toPandas().to_csv(\"C:/Users/mario/Maestria/Grandes Cantidades de Datos/VariablesCaracteristicas/PickupCommunityAreaGrouped.csv\", index=False)\n",
    "dfTransformed = replaceRareValues(dfTransformed, \"Pickup Community Area\",5)"
   ]
  },
  {
   "cell_type": "code",
   "execution_count": null,
   "metadata": {},
   "outputs": [],
   "source": [
    "categorical_summary(df,\"Payment Type\")"
   ]
  },
  {
   "cell_type": "code",
   "execution_count": 9,
   "metadata": {},
   "outputs": [
    {
     "name": "stdout",
     "output_type": "stream",
     "text": [
      "+------------+-------+----------+\n",
      "|Payment Type|  count|percentage|\n",
      "+------------+-------+----------+\n",
      "| Credit Card|3066154|     38.72|\n",
      "|   No Charge|  21298|      0.27|\n",
      "|     Unknown| 321508|      4.06|\n",
      "|      Prcard| 951509|     12.02|\n",
      "|        Cash|2213895|     27.96|\n",
      "|     Dispute|   4709|      0.06|\n",
      "|      Mobile|1338767|     16.91|\n",
      "|     Prepaid|      4|       0.0|\n",
      "+------------+-------+----------+\n",
      "\n",
      "+-------------+-------+----------+\n",
      "|payment_group|  count|percentage|\n",
      "+-------------+-------+----------+\n",
      "|         Otro|1299028|     16.41|\n",
      "|  Credit Card|3066154|     38.72|\n",
      "|         Cash|2213895|     27.96|\n",
      "|       Mobile|1338767|     16.91|\n",
      "+-------------+-------+----------+\n",
      "\n"
     ]
    }
   ],
   "source": [
    "percentageOfValues(df, \"Payment Type\").show()\n",
    "percentageOfValues(df.withColumn(\"payment_group\",when(col(\"Payment Type\") == \"Credit Card\", \"Credit Card\").when(col(\"Payment Type\") == \"Cash\", \"Cash\").when(col(\"Payment Type\") == \"Mobile\",\"Mobile\").otherwise(\"Otro\")), \"payment_group\").show()\n",
    "percentageOfValues(df.withColumn(\"payment_group\",when(col(\"Payment Type\") == \"Credit Card\", \"Credit Card\").when(col(\"Payment Type\") == \"Cash\", \"Cash\").when(col(\"Payment Type\") == \"Mobile\",\"Mobile\").otherwise(\"Otro\")), \"payment_group\").toPandas().to_csv(\"C:/Users/mario/Maestria/Grandes Cantidades de Datos/VariablesCaracteristicas/PaymentTypeGrouped.csv\", index=False)\n",
    "dfTransformed = dfTransformed.withColumn(\"payment_group\",when(col(\"Payment Type\") == \"Credit Card\", \"Credit Card\").when(col(\"Payment Type\") == \"Cash\", \"Cash\").when(col(\"Payment Type\") == \"Mobile\",\"Mobile\").otherwise(\"Otro\"))"
   ]
  },
  {
   "cell_type": "code",
   "execution_count": null,
   "metadata": {},
   "outputs": [],
   "source": [
    "categorical_summary(df,\"company\")"
   ]
  },
  {
   "cell_type": "code",
   "execution_count": 10,
   "metadata": {},
   "outputs": [
    {
     "name": "stdout",
     "output_type": "stream",
     "text": [
      "+--------------------+-------+----------+\n",
      "|             company|  count|percentage|\n",
      "+--------------------+-------+----------+\n",
      "|3556 - 36214 RC A...|   2051|      0.03|\n",
      "|     Chicago Taxicab|  16466|      0.21|\n",
      "|4053 - 40193 Adwa...|   1064|      0.01|\n",
      "|Taxi Affiliation ...|1354304|      17.1|\n",
      "|             Top Cab|  23427|       0.3|\n",
      "|         5 Star Taxi| 366649|      4.63|\n",
      "|   Metro Jet Taxi A.|   3598|      0.05|\n",
      "|           U Taxicab|  27154|      0.34|\n",
      "|           Flash Cab|1687588|     21.31|\n",
      "|Choice Taxi Assoc...|  91353|      1.15|\n",
      "|3591 - 63480 Chuk...|   5009|      0.06|\n",
      "|5167 - 71969 5167...|   3375|      0.04|\n",
      "|Chicago City Taxi...|  74478|      0.94|\n",
      "|          Setare Inc|   6846|      0.09|\n",
      "|            Sun Taxi| 866893|     10.95|\n",
      "|Blue Ribbon Taxi ...| 304554|      3.85|\n",
      "|Patriot Taxi Dba ...|   9888|      0.12|\n",
      "|6574 - Babylon Ex...|   1825|      0.02|\n",
      "|     Petani Cab Corp|   1031|      0.01|\n",
      "|    Medallion Leasin| 206500|      2.61|\n",
      "+--------------------+-------+----------+\n",
      "only showing top 20 rows\n",
      "\n",
      "+--------------------+-------+----------+\n",
      "|             company|  count|percentage|\n",
      "+--------------------+-------+----------+\n",
      "|Taxi Affiliation ...|1354304|      17.1|\n",
      "|           Flash Cab|1687588|     21.31|\n",
      "|            Sun Taxi| 866893|     10.95|\n",
      "|               Other|1901457|     24.01|\n",
      "|Chicago Independents| 470620|      5.94|\n",
      "|Taxicab Insurance...| 890393|     11.25|\n",
      "|        City Service| 746589|      9.43|\n",
      "+--------------------+-------+----------+\n",
      "\n"
     ]
    }
   ],
   "source": [
    "percentageOfValues(df, \"company\").show()\n",
    "percentageOfValues(replaceRareValues(df, \"company\",5), \"company\").show()\n",
    "percentageOfValues(replaceRareValues(df, \"company\",5), \"company\").toPandas().to_csv(\"C:/Users/mario/Maestria/Grandes Cantidades de Datos/VariablesCaracteristicas/companyGrouped.csv\", index=False)\n",
    "dfTransformed = replaceRareValues(dfTransformed, \"company\",5)"
   ]
  },
  {
   "cell_type": "markdown",
   "metadata": {
    "id": "idr7YdRflQJn"
   },
   "source": [
    "### **Creación de reglas de particionamiento**"
   ]
  },
  {
   "cell_type": "markdown",
   "metadata": {},
   "source": [
    "#### **Asumiendo Dependencia**"
   ]
  },
  {
   "cell_type": "code",
   "execution_count": null,
   "metadata": {},
   "outputs": [],
   "source": [
    "grouped = dfTransformed.groupBy(\"Pickup Community Area\", \"Dropoff Community Area\",\"payment_group\",\"company\").count()\n",
    "total_count = dfTransformed.count()"
   ]
  },
  {
   "cell_type": "code",
   "execution_count": null,
   "metadata": {},
   "outputs": [],
   "source": [
    "grouped_with_probs = grouped.withColumn(\"probability\", F.col(\"count\") / total_count)"
   ]
  },
  {
   "cell_type": "code",
   "execution_count": null,
   "metadata": {},
   "outputs": [],
   "source": [
    "grouped_with_probs.show()"
   ]
  },
  {
   "cell_type": "code",
   "execution_count": null,
   "metadata": {},
   "outputs": [],
   "source": [
    "grouped_with_probs.toPandas().to_csv(\"C:/Users/mario/Maestria/Grandes Cantidades de Datos/VariablesCaracteristicas/generalGrouped.csv\", index=False)"
   ]
  },
  {
   "cell_type": "markdown",
   "metadata": {},
   "source": [
    "#### **Asumiendo Independencia**"
   ]
  },
  {
   "cell_type": "code",
   "execution_count": 11,
   "metadata": {},
   "outputs": [],
   "source": [
    "columnsToCheck = [\"Pickup Community Area\", \"Dropoff Community Area\",\"payment_group\",\"company\"]\n",
    "values = []\n",
    "total_count = dfTransformed.count()\n",
    "for i in range(0,len(columnsToCheck)):\n",
    "    result_df = (\n",
    "        dfTransformed.groupBy(columnsToCheck[i])\n",
    "        .agg(count(\"*\").alias(\"count\"))\n",
    "        .withColumn(\"percentage\", round((col(\"count\") / lit(total_count)) * 100, 2))\n",
    "        .select(columnsToCheck[i], \"percentage\")\n",
    "    )\n",
    "    array_2d = [list(row) for row in result_df.collect()]\n",
    "    \n",
    "    values.append(array_2d)"
   ]
  },
  {
   "cell_type": "code",
   "execution_count": 17,
   "metadata": {},
   "outputs": [
    {
     "name": "stdout",
     "output_type": "stream",
     "text": [
      "    Column1 Column2 Column3                       Column4  probability\n",
      "0         8       8    Otro     Taxi Affiliation Services     0.001333\n",
      "1         8       8    Otro                     Flash Cab     0.001661\n",
      "2         8       8    Otro                      Sun Taxi     0.000853\n",
      "3         8       8    Otro                         Other     0.001871\n",
      "4         8       8    Otro          Chicago Independents     0.000463\n",
      "..      ...     ...     ...                           ...          ...\n",
      "695      76      76  Mobile                      Sun Taxi     0.000203\n",
      "696      76      76  Mobile                         Other     0.000446\n",
      "697      76      76  Mobile          Chicago Independents     0.000110\n",
      "698      76      76  Mobile  Taxicab Insurance Agency Llc     0.000209\n",
      "699      76      76  Mobile                  City Service     0.000175\n",
      "\n",
      "[700 rows x 5 columns]\n"
     ]
    }
   ],
   "source": [
    "dicts = []\n",
    "for col_vals in values:\n",
    "    d = {val: pct / 100.0 for val, pct in col_vals}  # Normalize percentages\n",
    "    dicts.append(d)\n",
    "    \n",
    "# Assuming `dicts` is a list of dictionaries for each column\n",
    "keys = [list(d.keys()) for d in dicts]  # All values for each column\n",
    "combinations = list(product(*keys))  # Cartesian product to generate all combinations\n",
    "\n",
    "# Calculate joint probabilities\n",
    "results = []\n",
    "for combo in combinations:\n",
    "    prob = 1.0\n",
    "    for i, val in enumerate(combo):\n",
    "        prob *= dicts[i][val]  # Multiply probabilities\n",
    "\n",
    "   # Create a dictionary with column names and their corresponding values along with the probability\n",
    "    results.append({**{f\"Column{i+1}\": combo[i] for i in range(len(combo))}, \"probability\": prob})\n",
    "\n",
    "# Convert the results to a pandas DataFrame\n",
    "df_result = pd.DataFrame(results)\n",
    "\n",
    "# Display the DataFrame\n",
    "print(df_result)"
   ]
  },
  {
   "cell_type": "code",
   "execution_count": 18,
   "metadata": {},
   "outputs": [],
   "source": [
    "df_result.to_csv(\"C:/Users/mario/Maestria/Grandes Cantidades de Datos/VariablesCaracteristicas/generalGroupedIndependent.csv\", index=False)"
   ]
  },
  {
   "cell_type": "code",
   "execution_count": null,
   "metadata": {},
   "outputs": [],
   "source": []
  }
 ],
 "metadata": {
  "colab": {
   "provenance": []
  },
  "kernelspec": {
   "display_name": "Python 3 (ipykernel)",
   "language": "python",
   "name": "python3"
  },
  "language_info": {
   "codemirror_mode": {
    "name": "ipython",
    "version": 3
   },
   "file_extension": ".py",
   "mimetype": "text/x-python",
   "name": "python",
   "nbconvert_exporter": "python",
   "pygments_lexer": "ipython3",
   "version": "3.12.4"
  }
 },
 "nbformat": 4,
 "nbformat_minor": 4
}
