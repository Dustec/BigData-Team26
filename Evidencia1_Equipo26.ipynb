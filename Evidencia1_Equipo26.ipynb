{
 "cells": [
  {
   "cell_type": "markdown",
   "metadata": {
    "id": "hfMQuxm2g1Iz"
   },
   "source": [
    "#**Maestría en Inteligencia Artificial Aplicada**\n",
    "##**Curso: Análisis de Grandes Volúmenes de Datos**\n",
    "###Tecnológico de Monterrey\n",
    "###Prof. Iván Olmos\n",
    "\n",
    "## **Actividad Semana 03**\n",
    "\n",
    "###**Proyecto: Base de Datos de Big Data**\n",
    "\n",
    "##### Nombres y matrículas de los integrantes del equipo:\n",
    "*   Victoria Melgarejo Cabrera - A01795030\n",
    "*   Héctor Alejandro Alvarez Rosas        - A01796262\n",
    "*   Andrea Xcaret Gomez Alfaro        - A01796384\n",
    "*   Mario Guillen De La Torre       - A01796701"
   ]
  },
  {
   "cell_type": "markdown",
   "metadata": {
    "id": "-l5jqG4fhkRo"
   },
   "source": [
    "\n",
    "---\n",
    "\n",
    "\n",
    "#### **Descripción de la Base de Datos:**\n",
    "\n",
    "Este notebook procesa el dataset de viajes en taxi de la ciudad de Chicago, aplicando reglas de particionamiento basadas en el tipo de pago y la zona de recojo. Posteriormente se extraen submuestras representativas que serán utilizadas para analizar el comportamiento de propinas.\n",
    "\n",
    "\n",
    "\n",
    "---"
   ]
  },
  {
   "cell_type": "markdown",
   "metadata": {
    "id": "dcCnhJwyiTyu"
   },
   "source": [
    "### **Importación de Librerías**"
   ]
  },
  {
   "cell_type": "code",
   "execution_count": 85,
   "metadata": {
    "colab": {
     "base_uri": "https://localhost:8080/"
    },
    "executionInfo": {
     "elapsed": 7170,
     "status": "ok",
     "timestamp": 1746302995124,
     "user": {
      "displayName": "Victoria Raquel Melgarejo Cabrera",
      "userId": "06025313242233497802"
     },
     "user_tz": 300
    },
    "id": "Q56hs9BVp7-Q",
    "outputId": "5b741f20-463c-4fba-9797-20e0cd700a92"
   },
   "outputs": [
    {
     "name": "stdout",
     "output_type": "stream",
     "text": [
      "Requirement already satisfied: pyspark in /opt/anaconda3/envs/env-pyspark/lib/python3.12/site-packages (3.5.4)\n",
      "Requirement already satisfied: py4j==0.10.9.7 in /opt/anaconda3/envs/env-pyspark/lib/python3.12/site-packages (from pyspark) (0.10.9.7)\n"
     ]
    }
   ],
   "source": [
    "# Instalación de PySpark en Colab\n",
    "!pip install pyspark"
   ]
  },
  {
   "cell_type": "code",
   "execution_count": 108,
   "metadata": {
    "id": "XXKGZB4SiQjr"
   },
   "outputs": [],
   "source": [
    "import os\n",
    "import pandas as pd\n",
    "from pyspark.sql import SparkSession\n",
    "from pyspark.sql.functions import col, isnan, when, count, percentile_approx, min, max, mean, stddev, approx_count_distinct, expr\n",
    "import matplotlib.pyplot as plt\n",
    "import seaborn as sns\n",
    "import scipy.stats as stats\n",
    "from pyspark.sql.functions import hour, dayofweek, unix_timestamp, when\n",
    "from pyspark.sql.functions import to_timestamp, hour, dayofweek\n",
    "from pyspark.sql import functions as F"
   ]
  },
  {
   "cell_type": "code",
   "execution_count": 87,
   "metadata": {},
   "outputs": [],
   "source": [
    "# Función auxiliar de visualización\n",
    "from IPython.display import display, HTML\n",
    "\n",
    "def pretty_display(df, limit=1000):\n",
    "    \"\"\"\n",
    "    Convierte un PySpark DataFrame a Pandas y lo muestra como una tabla HTML con scroll horizontal.\n",
    "    \n",
    "    Args:\n",
    "        df (pyspark.sql.DataFrame): El DataFrame de PySpark a mostrar.\n",
    "        limit (int): Número máximo de filas a mostrar. Por defecto 1000.\n",
    "    \"\"\"\n",
    "    pdf = df.limit(limit).toPandas()\n",
    "    display(HTML(pdf.to_html(notebook=True)))"
   ]
  },
  {
   "cell_type": "markdown",
   "metadata": {
    "id": "LS8Q2W_nioUA"
   },
   "source": [
    "### **Creación de la Sesión Spark**"
   ]
  },
  {
   "cell_type": "code",
   "execution_count": 88,
   "metadata": {
    "id": "eEuzkb88ism7"
   },
   "outputs": [],
   "source": [
    "spark = SparkSession.builder \\\n",
    "    .appName(\"ChicagoTaxyTripsAnalysis\") \\\n",
    "    .getOrCreate()"
   ]
  },
  {
   "cell_type": "markdown",
   "metadata": {
    "id": "uzhfCehBi5hF"
   },
   "source": [
    "### **Carga del Dataset**"
   ]
  },
  {
   "cell_type": "code",
   "execution_count": 89,
   "metadata": {
    "colab": {
     "base_uri": "https://localhost:8080/"
    },
    "executionInfo": {
     "elapsed": 53728,
     "status": "ok",
     "timestamp": 1746308742841,
     "user": {
      "displayName": "Victoria Raquel Melgarejo Cabrera",
      "userId": "06025313242233497802"
     },
     "user_tz": 300
    },
    "id": "Q81a5PRN5X-I",
    "outputId": "b0368f99-57e9-43be-c719-56d9985e6809"
   },
   "outputs": [
    {
     "name": "stderr",
     "output_type": "stream",
     "text": [
      "                                                                                "
     ]
    }
   ],
   "source": [
    "filename = \"Taxi_Trips.csv\"\n",
    "\n",
    "dftaxytrips = spark.read.csv(filename, header=True, inferSchema=True)"
   ]
  },
  {
   "cell_type": "code",
   "execution_count": 90,
   "metadata": {
    "colab": {
     "base_uri": "https://localhost:8080/"
    },
    "executionInfo": {
     "elapsed": 9667,
     "status": "ok",
     "timestamp": 1746308752513,
     "user": {
      "displayName": "Victoria Raquel Melgarejo Cabrera",
      "userId": "06025313242233497802"
     },
     "user_tz": 300
    },
    "id": "a9j_i4-qkfh4",
    "outputId": "d8e56a64-c9ac-48f5-a459-e89b989c6355"
   },
   "outputs": [
    {
     "name": "stderr",
     "output_type": "stream",
     "text": [
      "[Stage 383:===================================>                   (16 + 8) / 25]"
     ]
    },
    {
     "name": "stdout",
     "output_type": "stream",
     "text": [
      "Número de registros: 7917844\n",
      "Número de columnas: 23\n"
     ]
    },
    {
     "name": "stderr",
     "output_type": "stream",
     "text": [
      "                                                                                "
     ]
    }
   ],
   "source": [
    "print(\"Número de registros:\", dftaxytrips.count())\n",
    "print(\"Número de columnas:\", len(dftaxytrips.columns))"
   ]
  },
  {
   "cell_type": "markdown",
   "metadata": {
    "id": "idr7YdRflQJn"
   },
   "source": [
    "### **Exploración de los Datos**"
   ]
  },
  {
   "cell_type": "code",
   "execution_count": 91,
   "metadata": {
    "colab": {
     "base_uri": "https://localhost:8080/"
    },
    "executionInfo": {
     "elapsed": 9,
     "status": "ok",
     "timestamp": 1746293383120,
     "user": {
      "displayName": "Victoria Raquel Melgarejo Cabrera",
      "userId": "06025313242233497802"
     },
     "user_tz": 300
    },
    "id": "OIvycSZ_lQxt",
    "outputId": "b1927e7f-2c38-4df6-8519-6fe9d9864820"
   },
   "outputs": [
    {
     "name": "stdout",
     "output_type": "stream",
     "text": [
      "root\n",
      " |-- Trip ID: string (nullable = true)\n",
      " |-- Taxi ID: string (nullable = true)\n",
      " |-- Trip Start Timestamp: string (nullable = true)\n",
      " |-- Trip End Timestamp: string (nullable = true)\n",
      " |-- Trip Seconds: integer (nullable = true)\n",
      " |-- Trip Miles: double (nullable = true)\n",
      " |-- Pickup Census Tract: long (nullable = true)\n",
      " |-- Dropoff Census Tract: long (nullable = true)\n",
      " |-- Pickup Community Area: integer (nullable = true)\n",
      " |-- Dropoff Community Area: integer (nullable = true)\n",
      " |-- Fare: double (nullable = true)\n",
      " |-- Tips: double (nullable = true)\n",
      " |-- Tolls: double (nullable = true)\n",
      " |-- Extras: double (nullable = true)\n",
      " |-- Trip Total: double (nullable = true)\n",
      " |-- Payment Type: string (nullable = true)\n",
      " |-- Company: string (nullable = true)\n",
      " |-- Pickup Centroid Latitude: double (nullable = true)\n",
      " |-- Pickup Centroid Longitude: double (nullable = true)\n",
      " |-- Pickup Centroid Location: string (nullable = true)\n",
      " |-- Dropoff Centroid Latitude: double (nullable = true)\n",
      " |-- Dropoff Centroid Longitude: double (nullable = true)\n",
      " |-- Dropoff Centroid  Location: string (nullable = true)\n",
      "\n"
     ]
    }
   ],
   "source": [
    "# Estructura del dataset\n",
    "dftaxytrips.printSchema()"
   ]
  },
  {
   "cell_type": "code",
   "execution_count": 92,
   "metadata": {
    "colab": {
     "base_uri": "https://localhost:8080/"
    },
    "executionInfo": {
     "elapsed": 905645,
     "status": "ok",
     "timestamp": 1746294288773,
     "user": {
      "displayName": "Victoria Raquel Melgarejo Cabrera",
      "userId": "06025313242233497802"
     },
     "user_tz": 300
    },
    "id": "mO3mZ46ckwJl",
    "outputId": "29996a3f-e177-4e16-bbab-dcb77ca513e9"
   },
   "outputs": [
    {
     "name": "stderr",
     "output_type": "stream",
     "text": [
      "                                                                                "
     ]
    },
    {
     "data": {
      "text/html": [
       "<div>\n",
       "<style scoped>\n",
       "    .dataframe tbody tr th:only-of-type {\n",
       "        vertical-align: middle;\n",
       "    }\n",
       "\n",
       "    .dataframe tbody tr th {\n",
       "        vertical-align: top;\n",
       "    }\n",
       "\n",
       "    .dataframe thead th {\n",
       "        text-align: right;\n",
       "    }\n",
       "</style>\n",
       "<table border=\"1\" class=\"dataframe\">\n",
       "  <thead>\n",
       "    <tr style=\"text-align: right;\">\n",
       "      <th></th>\n",
       "      <th>summary</th>\n",
       "      <th>Trip ID</th>\n",
       "      <th>Taxi ID</th>\n",
       "      <th>Trip Start Timestamp</th>\n",
       "      <th>Trip End Timestamp</th>\n",
       "      <th>Trip Seconds</th>\n",
       "      <th>Trip Miles</th>\n",
       "      <th>Pickup Census Tract</th>\n",
       "      <th>Dropoff Census Tract</th>\n",
       "      <th>Pickup Community Area</th>\n",
       "      <th>Dropoff Community Area</th>\n",
       "      <th>Fare</th>\n",
       "      <th>Tips</th>\n",
       "      <th>Tolls</th>\n",
       "      <th>Extras</th>\n",
       "      <th>Trip Total</th>\n",
       "      <th>Payment Type</th>\n",
       "      <th>Company</th>\n",
       "      <th>Pickup Centroid Latitude</th>\n",
       "      <th>Pickup Centroid Longitude</th>\n",
       "      <th>Pickup Centroid Location</th>\n",
       "      <th>Dropoff Centroid Latitude</th>\n",
       "      <th>Dropoff Centroid Longitude</th>\n",
       "      <th>Dropoff Centroid  Location</th>\n",
       "    </tr>\n",
       "  </thead>\n",
       "  <tbody>\n",
       "    <tr>\n",
       "      <th>0</th>\n",
       "      <td>count</td>\n",
       "      <td>7917844</td>\n",
       "      <td>7917844</td>\n",
       "      <td>7917844</td>\n",
       "      <td>7917778</td>\n",
       "      <td>7916303</td>\n",
       "      <td>7917775</td>\n",
       "      <td>3392900</td>\n",
       "      <td>3281682</td>\n",
       "      <td>7691067</td>\n",
       "      <td>7174891</td>\n",
       "      <td>7897269</td>\n",
       "      <td>7897269</td>\n",
       "      <td>7897269</td>\n",
       "      <td>7897269</td>\n",
       "      <td>7897269</td>\n",
       "      <td>7917844</td>\n",
       "      <td>7917844</td>\n",
       "      <td>7695376</td>\n",
       "      <td>7695376</td>\n",
       "      <td>7695376</td>\n",
       "      <td>7220191</td>\n",
       "      <td>7220191</td>\n",
       "      <td>7220191</td>\n",
       "    </tr>\n",
       "    <tr>\n",
       "      <th>1</th>\n",
       "      <td>mean</td>\n",
       "      <td>Infinity</td>\n",
       "      <td>None</td>\n",
       "      <td>None</td>\n",
       "      <td>None</td>\n",
       "      <td>1254.9250153764958</td>\n",
       "      <td>6.802327488467674</td>\n",
       "      <td>1.7031508395342648E10</td>\n",
       "      <td>1.703141394138261E10</td>\n",
       "      <td>36.09328575605959</td>\n",
       "      <td>26.293705646538744</td>\n",
       "      <td>22.89300292290886</td>\n",
       "      <td>2.9030046741474513</td>\n",
       "      <td>0.029434495646532992</td>\n",
       "      <td>2.1529685008830275</td>\n",
       "      <td>28.182303074643663</td>\n",
       "      <td>None</td>\n",
       "      <td>None</td>\n",
       "      <td>41.901399650735996</td>\n",
       "      <td>-87.7019076253514</td>\n",
       "      <td>None</td>\n",
       "      <td>41.8921376218955</td>\n",
       "      <td>-87.66080016228891</td>\n",
       "      <td>None</td>\n",
       "    </tr>\n",
       "    <tr>\n",
       "      <th>2</th>\n",
       "      <td>stddev</td>\n",
       "      <td>None</td>\n",
       "      <td>None</td>\n",
       "      <td>None</td>\n",
       "      <td>None</td>\n",
       "      <td>1648.0977197601726</td>\n",
       "      <td>7.957195844290252</td>\n",
       "      <td>374237.3662004645</td>\n",
       "      <td>342509.8545557547</td>\n",
       "      <td>26.291497670579886</td>\n",
       "      <td>20.81465342793271</td>\n",
       "      <td>33.2323786885119</td>\n",
       "      <td>4.284313925861233</td>\n",
       "      <td>5.0707919401752175</td>\n",
       "      <td>10.395597618506331</td>\n",
       "      <td>38.30632012119162</td>\n",
       "      <td>None</td>\n",
       "      <td>None</td>\n",
       "      <td>0.06525246745369662</td>\n",
       "      <td>0.11455514438305599</td>\n",
       "      <td>None</td>\n",
       "      <td>0.05843544231278496</td>\n",
       "      <td>0.07200598932628444</td>\n",
       "      <td>None</td>\n",
       "    </tr>\n",
       "    <tr>\n",
       "      <th>3</th>\n",
       "      <td>min</td>\n",
       "      <td>0000006aa752d456d05c6eeb43b057adb1ffa540</td>\n",
       "      <td>000daaa11a2d961100513e232a1ce05391c5d797d2dc56...</td>\n",
       "      <td>01/01/2024 01:00:00 AM</td>\n",
       "      <td>01/01/2024 01:00:00 AM</td>\n",
       "      <td>0</td>\n",
       "      <td>0.0</td>\n",
       "      <td>17031010100</td>\n",
       "      <td>17031010100</td>\n",
       "      <td>1</td>\n",
       "      <td>1</td>\n",
       "      <td>0.0</td>\n",
       "      <td>0.0</td>\n",
       "      <td>0.0</td>\n",
       "      <td>0.0</td>\n",
       "      <td>0.0</td>\n",
       "      <td>Cash</td>\n",
       "      <td>2733 - 74600 Benny Jona</td>\n",
       "      <td>41.650221676</td>\n",
       "      <td>-87.913624596</td>\n",
       "      <td>POINT (-87.5307124836 41.7030053028)</td>\n",
       "      <td>41.650221676</td>\n",
       "      <td>-87.913624596</td>\n",
       "      <td>POINT (-87.5349029012 41.707311449)</td>\n",
       "    </tr>\n",
       "    <tr>\n",
       "      <th>4</th>\n",
       "      <td>25%</td>\n",
       "      <td>Infinity</td>\n",
       "      <td>None</td>\n",
       "      <td>None</td>\n",
       "      <td>None</td>\n",
       "      <td>480</td>\n",
       "      <td>1.03</td>\n",
       "      <td>17031081700</td>\n",
       "      <td>17031081500</td>\n",
       "      <td>8</td>\n",
       "      <td>8</td>\n",
       "      <td>8.5</td>\n",
       "      <td>0.0</td>\n",
       "      <td>0.0</td>\n",
       "      <td>0.0</td>\n",
       "      <td>10.25</td>\n",
       "      <td>None</td>\n",
       "      <td>None</td>\n",
       "      <td>41.878865584</td>\n",
       "      <td>-87.750934289</td>\n",
       "      <td>None</td>\n",
       "      <td>41.878865584</td>\n",
       "      <td>-87.66351755</td>\n",
       "      <td>None</td>\n",
       "    </tr>\n",
       "    <tr>\n",
       "      <th>5</th>\n",
       "      <td>50%</td>\n",
       "      <td>Infinity</td>\n",
       "      <td>None</td>\n",
       "      <td>None</td>\n",
       "      <td>None</td>\n",
       "      <td>943</td>\n",
       "      <td>3.34</td>\n",
       "      <td>17031320400</td>\n",
       "      <td>17031320100</td>\n",
       "      <td>32</td>\n",
       "      <td>28</td>\n",
       "      <td>16.0</td>\n",
       "      <td>0.57</td>\n",
       "      <td>0.0</td>\n",
       "      <td>0.0</td>\n",
       "      <td>19.22</td>\n",
       "      <td>None</td>\n",
       "      <td>None</td>\n",
       "      <td>41.89503345</td>\n",
       "      <td>-87.642648998</td>\n",
       "      <td>None</td>\n",
       "      <td>41.892042136</td>\n",
       "      <td>-87.633308037</td>\n",
       "      <td>None</td>\n",
       "    </tr>\n",
       "    <tr>\n",
       "      <th>6</th>\n",
       "      <td>75%</td>\n",
       "      <td>Infinity</td>\n",
       "      <td>None</td>\n",
       "      <td>None</td>\n",
       "      <td>None</td>\n",
       "      <td>1714</td>\n",
       "      <td>11.98</td>\n",
       "      <td>17031980000</td>\n",
       "      <td>17031839100</td>\n",
       "      <td>63</td>\n",
       "      <td>32</td>\n",
       "      <td>34.5</td>\n",
       "      <td>4.0</td>\n",
       "      <td>0.0</td>\n",
       "      <td>2.25</td>\n",
       "      <td>43.22</td>\n",
       "      <td>None</td>\n",
       "      <td>None</td>\n",
       "      <td>41.97907082</td>\n",
       "      <td>-87.625192142</td>\n",
       "      <td>None</td>\n",
       "      <td>41.922686284</td>\n",
       "      <td>-87.625192142</td>\n",
       "      <td>None</td>\n",
       "    </tr>\n",
       "    <tr>\n",
       "      <th>7</th>\n",
       "      <td>max</td>\n",
       "      <td>ffffffdda8f2f9f98cf474cce05b7e5e34dc25e4</td>\n",
       "      <td>ffda53354c610fd3af1aee46d723028a49014e35f7280c...</td>\n",
       "      <td>12/31/2024 12:45:00 PM</td>\n",
       "      <td>12/31/2024 12:45:00 PM</td>\n",
       "      <td>86396</td>\n",
       "      <td>3397.8</td>\n",
       "      <td>17031980100</td>\n",
       "      <td>17031980100</td>\n",
       "      <td>77</td>\n",
       "      <td>77</td>\n",
       "      <td>9999.75</td>\n",
       "      <td>400.0</td>\n",
       "      <td>5550.0</td>\n",
       "      <td>5559.5</td>\n",
       "      <td>9999.75</td>\n",
       "      <td>Unknown</td>\n",
       "      <td>Wolley Taxi</td>\n",
       "      <td>42.021223593</td>\n",
       "      <td>-87.530712484</td>\n",
       "      <td>POINT (-87.913624596 41.9802643146)</td>\n",
       "      <td>42.021223593</td>\n",
       "      <td>-87.534902901</td>\n",
       "      <td>POINT (-87.913624596 41.9802643146)</td>\n",
       "    </tr>\n",
       "  </tbody>\n",
       "</table>\n",
       "</div>"
      ],
      "text/plain": [
       "<IPython.core.display.HTML object>"
      ]
     },
     "metadata": {},
     "output_type": "display_data"
    }
   ],
   "source": [
    "# Estadísticas generales\n",
    "pretty_display(dftaxytrips.summary())"
   ]
  },
  {
   "cell_type": "code",
   "execution_count": 93,
   "metadata": {
    "colab": {
     "base_uri": "https://localhost:8080/"
    },
    "executionInfo": {
     "elapsed": 248344,
     "status": "ok",
     "timestamp": 1746294537115,
     "user": {
      "displayName": "Victoria Raquel Melgarejo Cabrera",
      "userId": "06025313242233497802"
     },
     "user_tz": 300
    },
    "id": "V8xZKmtYmWGa",
    "outputId": "638821af-df78-4f2c-8b5b-6974ff68c5f9"
   },
   "outputs": [
    {
     "name": "stdout",
     "output_type": "stream",
     "text": [
      "Valores faltantes en Chicago Taxi Trips Dataset (csv):\n"
     ]
    },
    {
     "name": "stderr",
     "output_type": "stream",
     "text": [
      "                                                                                "
     ]
    },
    {
     "data": {
      "text/html": [
       "<div>\n",
       "<style scoped>\n",
       "    .dataframe tbody tr th:only-of-type {\n",
       "        vertical-align: middle;\n",
       "    }\n",
       "\n",
       "    .dataframe tbody tr th {\n",
       "        vertical-align: top;\n",
       "    }\n",
       "\n",
       "    .dataframe thead th {\n",
       "        text-align: right;\n",
       "    }\n",
       "</style>\n",
       "<table border=\"1\" class=\"dataframe\">\n",
       "  <thead>\n",
       "    <tr style=\"text-align: right;\">\n",
       "      <th></th>\n",
       "      <th>Trip ID</th>\n",
       "      <th>Taxi ID</th>\n",
       "      <th>Trip Start Timestamp</th>\n",
       "      <th>Trip End Timestamp</th>\n",
       "      <th>Trip Seconds</th>\n",
       "      <th>Trip Miles</th>\n",
       "      <th>Pickup Census Tract</th>\n",
       "      <th>Dropoff Census Tract</th>\n",
       "      <th>Pickup Community Area</th>\n",
       "      <th>Dropoff Community Area</th>\n",
       "      <th>Fare</th>\n",
       "      <th>Tips</th>\n",
       "      <th>Tolls</th>\n",
       "      <th>Extras</th>\n",
       "      <th>Trip Total</th>\n",
       "      <th>Payment Type</th>\n",
       "      <th>Company</th>\n",
       "      <th>Pickup Centroid Latitude</th>\n",
       "      <th>Pickup Centroid Longitude</th>\n",
       "      <th>Pickup Centroid Location</th>\n",
       "      <th>Dropoff Centroid Latitude</th>\n",
       "      <th>Dropoff Centroid Longitude</th>\n",
       "      <th>Dropoff Centroid  Location</th>\n",
       "    </tr>\n",
       "  </thead>\n",
       "  <tbody>\n",
       "    <tr>\n",
       "      <th>0</th>\n",
       "      <td>0</td>\n",
       "      <td>0</td>\n",
       "      <td>0</td>\n",
       "      <td>66</td>\n",
       "      <td>1541</td>\n",
       "      <td>69</td>\n",
       "      <td>4524944</td>\n",
       "      <td>4636162</td>\n",
       "      <td>226777</td>\n",
       "      <td>742953</td>\n",
       "      <td>20575</td>\n",
       "      <td>20575</td>\n",
       "      <td>20575</td>\n",
       "      <td>20575</td>\n",
       "      <td>20575</td>\n",
       "      <td>0</td>\n",
       "      <td>0</td>\n",
       "      <td>222468</td>\n",
       "      <td>222468</td>\n",
       "      <td>222468</td>\n",
       "      <td>697653</td>\n",
       "      <td>697653</td>\n",
       "      <td>697653</td>\n",
       "    </tr>\n",
       "  </tbody>\n",
       "</table>\n",
       "</div>"
      ],
      "text/plain": [
       "<IPython.core.display.HTML object>"
      ]
     },
     "metadata": {},
     "output_type": "display_data"
    }
   ],
   "source": [
    "# Análisis de valores faltantes en 'dftaxytrips'\n",
    "missing_taxytrips = dftaxytrips.select([\n",
    "    count(when(col(c).isNull() | isnan(c), c)).alias(c) #count(when(col(c).isNull(), c)).alias(c)\n",
    "    for c in dftaxytrips.columns\n",
    "])\n",
    "\n",
    "print(\"Valores faltantes en Chicago Taxi Trips Dataset (csv):\")\n",
    "pretty_display(missing_taxytrips)"
   ]
  },
  {
   "cell_type": "markdown",
   "metadata": {
    "id": "mj5F8yzJujId"
   },
   "source": [
    "### **Variables de Caracterización**"
   ]
  },
  {
   "cell_type": "code",
   "execution_count": 94,
   "metadata": {
    "id": "pUk-nGDRK8-b"
   },
   "outputs": [],
   "source": [
    "# Trip Start Timestamp es tipo timestamp\n",
    "dftaxytrips = dftaxytrips.withColumn(\n",
    "    \"trip_start_ts\",\n",
    "    to_timestamp(col(\"Trip Start Timestamp\"), \"MM/dd/yyyy hh:mm:ss a\")\n",
    ")\n",
    "\n",
    "# Hora del día\n",
    "dftaxytrips = dftaxytrips.withColumn(\"trip_hour\", hour(col(\"trip_start_ts\")))\n",
    "\n",
    "# Día de la semana (1 = domingo, 7 = sábado)\n",
    "dftaxytrips = dftaxytrips.withColumn(\"trip_day_of_week\", dayofweek(col(\"trip_start_ts\")))\n",
    "\n",
    "# Duración del viaje en minutos\n",
    "dftaxytrips = dftaxytrips.withColumn(\"duration_minutes\", col(\"Trip Seconds\") / 60)\n",
    "\n",
    "# Tip/Fare ratio\n",
    "dftaxytrips = dftaxytrips.withColumn(\"tip_ratio\",\n",
    "    when(col(\"Fare\") > 0, col(\"Tips\") / col(\"Fare\")).otherwise(0))\n",
    "\n",
    "# Tip/Trip Miles ratio\n",
    "dftaxytrips = dftaxytrips.withColumn(\"tip_per_mile\",\n",
    "    when(col(\"Trip Miles\") > 0, col(\"Tips\") / col(\"Trip Miles\")).otherwise(0))\n",
    "\n",
    "# Agrupación método de pago\n",
    "dftaxytrips = dftaxytrips.withColumn(\"payment_group\",\n",
    "    when(col(\"Payment Type\") == \"Credit Card\", \"Credit Card\")\n",
    "    .when(col(\"Payment Type\") == \"Cash\", \"Cash\")\n",
    "    .when(col(\"Payment Type\") == \"Mobile\", \"Mobile\")\n",
    "    .otherwise(\"Other\"))\n",
    "\n",
    "# Agrupación de Compañia\n",
    "dftaxytrips = dftaxytrips.withColumn(\"company_group\",\n",
    "    when(col(\"Company\") == \"Flash Cab\", \"Flash Cab\")\n",
    "    .when(col(\"Company\") == \"Taxi Affiliation Services\", \"Taxi Affiliation\")\n",
    "    .when(col(\"Company\") == \"Taxicab Insurance Agency Llc\", \"Insurance Agency\")\n",
    "    .when(col(\"Company\") == \"Sun Taxi\", \"Sun Taxi\")\n",
    "    .when(col(\"Company\") == \"City Service\", \"City Service\")\n",
    "    .when(col(\"Company\") == \"Chicago Independents\", \"Chicago Independents\")\n",
    "    .otherwise(\"Other\"))\n",
    "\n",
    "# Agrupación Zona origen\n",
    "dftaxytrips = dftaxytrips.withColumn(\"pickup_zone_group\",\n",
    "    when(col(\"Pickup Community Area\") == 76, 76)\n",
    "    .when(col(\"Pickup Community Area\") == 8, 8)\n",
    "    .when(col(\"Pickup Community Area\") == 32, 32)\n",
    "    .when(col(\"Pickup Community Area\") == 28, 28)\n",
    "    .otherwise(\"Other\"))\n",
    "\n",
    "# Agrupación Zona destino\n",
    "dftaxytrips = dftaxytrips.withColumn(\"dropoff_zone_group\",\n",
    "    when(col(\"Dropoff Community Area\") == 8, 8)\n",
    "    .when(col(\"Dropoff Community Area\") == 32, 32)\n",
    "    .when(col(\"Dropoff Community Area\") == 28, 28)\n",
    "    .when(col(\"Dropoff Community Area\") == 76, 76)\n",
    "    .otherwise(\"Other\"))\n",
    "\n",
    "# Renombrar ciertas columnas\n",
    "dftaxytrips = dftaxytrips.withColumnRenamed(\"Trip ID\", \"trip_id\")\n",
    "dftaxytrips = dftaxytrips.withColumnRenamed(\"Trip Miles\", \"trip_miles\")"
   ]
  },
  {
   "cell_type": "code",
   "execution_count": 95,
   "metadata": {
    "colab": {
     "base_uri": "https://localhost:8080/"
    },
    "executionInfo": {
     "elapsed": 247,
     "status": "ok",
     "timestamp": 1746308809492,
     "user": {
      "displayName": "Victoria Raquel Melgarejo Cabrera",
      "userId": "06025313242233497802"
     },
     "user_tz": 300
    },
    "id": "mgJAfTotuoya",
    "outputId": "390d77ca-95c8-4b53-ff95-10df1ce3eeaf"
   },
   "outputs": [
    {
     "data": {
      "text/html": [
       "<div>\n",
       "<style scoped>\n",
       "    .dataframe tbody tr th:only-of-type {\n",
       "        vertical-align: middle;\n",
       "    }\n",
       "\n",
       "    .dataframe tbody tr th {\n",
       "        vertical-align: top;\n",
       "    }\n",
       "\n",
       "    .dataframe thead th {\n",
       "        text-align: right;\n",
       "    }\n",
       "</style>\n",
       "<table border=\"1\" class=\"dataframe\">\n",
       "  <thead>\n",
       "    <tr style=\"text-align: right;\">\n",
       "      <th></th>\n",
       "      <th>trip_id</th>\n",
       "      <th>trip_hour</th>\n",
       "      <th>trip_day_of_week</th>\n",
       "      <th>duration_minutes</th>\n",
       "      <th>trip_miles</th>\n",
       "      <th>tip_ratio</th>\n",
       "      <th>tip_per_mile</th>\n",
       "      <th>payment_group</th>\n",
       "      <th>company_group</th>\n",
       "      <th>pickup_zone_group</th>\n",
       "      <th>dropoff_zone_group</th>\n",
       "    </tr>\n",
       "  </thead>\n",
       "  <tbody>\n",
       "    <tr>\n",
       "      <th>0</th>\n",
       "      <td>0000184e7cd53cee95af32eba49c44e4d20adcd8</td>\n",
       "      <td>17</td>\n",
       "      <td>6</td>\n",
       "      <td>67.516667</td>\n",
       "      <td>17.12</td>\n",
       "      <td>0.219780</td>\n",
       "      <td>0.584112</td>\n",
       "      <td>Credit Card</td>\n",
       "      <td>Flash Cab</td>\n",
       "      <td>76</td>\n",
       "      <td>32</td>\n",
       "    </tr>\n",
       "    <tr>\n",
       "      <th>1</th>\n",
       "      <td>000072ee076c9038868e239ca54185eb43959db0</td>\n",
       "      <td>14</td>\n",
       "      <td>1</td>\n",
       "      <td>29.150000</td>\n",
       "      <td>12.70</td>\n",
       "      <td>0.000000</td>\n",
       "      <td>0.000000</td>\n",
       "      <td>Cash</td>\n",
       "      <td>Flash Cab</td>\n",
       "      <td>Other</td>\n",
       "      <td>Other</td>\n",
       "    </tr>\n",
       "    <tr>\n",
       "      <th>2</th>\n",
       "      <td>000074019d598c2b1d6e77fbae79e40b0461a2fc</td>\n",
       "      <td>9</td>\n",
       "      <td>6</td>\n",
       "      <td>8.616667</td>\n",
       "      <td>3.39</td>\n",
       "      <td>0.254812</td>\n",
       "      <td>0.820059</td>\n",
       "      <td>Mobile</td>\n",
       "      <td>Insurance Agency</td>\n",
       "      <td>Other</td>\n",
       "      <td>8</td>\n",
       "    </tr>\n",
       "    <tr>\n",
       "      <th>3</th>\n",
       "      <td>00007572c5f92e2ff067e6f838a5ad74e83665d3</td>\n",
       "      <td>8</td>\n",
       "      <td>2</td>\n",
       "      <td>34.166667</td>\n",
       "      <td>15.06</td>\n",
       "      <td>0.288153</td>\n",
       "      <td>0.750996</td>\n",
       "      <td>Credit Card</td>\n",
       "      <td>Other</td>\n",
       "      <td>76</td>\n",
       "      <td>Other</td>\n",
       "    </tr>\n",
       "    <tr>\n",
       "      <th>4</th>\n",
       "      <td>00007c3e7546e2c7d15168586943a9c22c3856cf</td>\n",
       "      <td>19</td>\n",
       "      <td>5</td>\n",
       "      <td>16.733333</td>\n",
       "      <td>1.18</td>\n",
       "      <td>0.233375</td>\n",
       "      <td>3.152542</td>\n",
       "      <td>Mobile</td>\n",
       "      <td>Other</td>\n",
       "      <td>32</td>\n",
       "      <td>32</td>\n",
       "    </tr>\n",
       "  </tbody>\n",
       "</table>\n",
       "</div>"
      ],
      "text/plain": [
       "<IPython.core.display.HTML object>"
      ]
     },
     "metadata": {},
     "output_type": "display_data"
    }
   ],
   "source": [
    "columnas_seleccionadas = [\n",
    "    \"trip_id\",\n",
    "    \"trip_hour\",\n",
    "    \"trip_day_of_week\",\n",
    "    \"duration_minutes\",\n",
    "    \"trip_miles\",\n",
    "    \"tip_ratio\",\n",
    "    \"tip_per_mile\",\n",
    "    \"payment_group\",\n",
    "    \"company_group\",\n",
    "    \"pickup_zone_group\",\n",
    "    \"dropoff_zone_group\"\n",
    "]\n",
    "\n",
    "# Seleccionar columnas específicas\n",
    "dftaxytrips_selected = dftaxytrips.select(*columnas_seleccionadas)\n",
    "pretty_display(dftaxytrips_selected, 5)"
   ]
  },
  {
   "cell_type": "markdown",
   "metadata": {
    "id": "1SqYP6n6xo3z"
   },
   "source": [
    "### **Caracterización de la Población**"
   ]
  },
  {
   "cell_type": "code",
   "execution_count": 96,
   "metadata": {
    "colab": {
     "base_uri": "https://localhost:8080/"
    },
    "executionInfo": {
     "elapsed": 157524,
     "status": "ok",
     "timestamp": 1746308970523,
     "user": {
      "displayName": "Victoria Raquel Melgarejo Cabrera",
      "userId": "06025313242233497802"
     },
     "user_tz": 300
    },
    "id": "0pwXZLKPoY-w",
    "outputId": "44b5d59c-4d70-4524-8796-431613aa3476"
   },
   "outputs": [
    {
     "name": "stdout",
     "output_type": "stream",
     "text": [
      "Valores faltantes en Chicago Taxi Trips Dataset (csv):\n"
     ]
    },
    {
     "name": "stderr",
     "output_type": "stream",
     "text": [
      "[Stage 393:====================================================>  (24 + 1) / 25]"
     ]
    },
    {
     "name": "stdout",
     "output_type": "stream",
     "text": [
      "+-------+---------+----------------+----------------+----------+---------+------------+-------------+-------------+-----------------+------------------+\n",
      "|trip_id|trip_hour|trip_day_of_week|duration_minutes|trip_miles|tip_ratio|tip_per_mile|payment_group|company_group|pickup_zone_group|dropoff_zone_group|\n",
      "+-------+---------+----------------+----------------+----------+---------+------------+-------------+-------------+-----------------+------------------+\n",
      "|      0|        0|               0|            1541|        69|        0|       18862|            0|            0|                0|                 0|\n",
      "+-------+---------+----------------+----------------+----------+---------+------------+-------------+-------------+-----------------+------------------+\n",
      "\n"
     ]
    },
    {
     "name": "stderr",
     "output_type": "stream",
     "text": [
      "                                                                                "
     ]
    }
   ],
   "source": [
    "# Análisis de valores faltantes en 'dftaxytrips_selected'\n",
    "missing_taxytrips = dftaxytrips_selected.select([\n",
    "    count(when(col(c).isNull() | isnan(c), c)).alias(c)\n",
    "    for c in dftaxytrips_selected.columns\n",
    "])\n",
    "\n",
    "print(\"Valores faltantes en Chicago Taxi Trips Dataset (csv):\")\n",
    "missing_taxytrips.show()"
   ]
  },
  {
   "cell_type": "code",
   "execution_count": 97,
   "metadata": {
    "id": "tyLLgwooxxRc"
   },
   "outputs": [],
   "source": [
    "# Definimos variables\n",
    "numerical_vars = [\"duration_minutes\", \"trip_miles\", \"tip_ratio\", \"tip_per_mile\"]\n",
    "\n",
    "categorical_vars = [\n",
    "    \"trip_hour\", \"trip_day_of_week\",\n",
    "    \"payment_group\", \"company_group\",\n",
    "    \"pickup_zone_group\", \"dropoff_zone_group\"\n",
    "]"
   ]
  },
  {
   "cell_type": "code",
   "execution_count": 98,
   "metadata": {
    "id": "IXD-RdZqjZ39"
   },
   "outputs": [
    {
     "name": "stderr",
     "output_type": "stream",
     "text": [
      "                                                                                "
     ]
    }
   ],
   "source": [
    "# Lista de variables numéricas a imputar\n",
    "vars_a_imputar = [\"duration_minutes\", \"trip_miles\", \"tip_ratio\", \"tip_per_mile\"]\n",
    "\n",
    "# Aplicamos imputación con mediana\n",
    "for var in vars_a_imputar:\n",
    "    mediana = dftaxytrips_selected.approxQuantile(var, [0.5], 0.01)[0]\n",
    "    dftaxytrips_selected = dftaxytrips_selected.withColumn(\n",
    "        var, when(col(var).isNull(), mediana).otherwise(col(var))\n",
    "    )"
   ]
  },
  {
   "cell_type": "code",
   "execution_count": 99,
   "metadata": {
    "id": "w7VY9srdrUsF"
   },
   "outputs": [
    {
     "name": "stderr",
     "output_type": "stream",
     "text": [
      "                                                                                "
     ]
    }
   ],
   "source": [
    "# Estadísticas Numéricas\n",
    "stats_exprs = [min(c).alias(\"min_\" + c) for c in numerical_vars] + \\\n",
    "              [max(c).alias(\"max_\" + c) for c in numerical_vars] + \\\n",
    "              [mean(c).alias(\"mean_\" + c) for c in numerical_vars] + \\\n",
    "              [stddev(c).alias(\"stddev_\" + c) for c in numerical_vars]\n",
    "\n",
    "numerical_stats = dftaxytrips_selected.agg(*stats_exprs)\n",
    "\n",
    "# Agregar percentiles 20, 33, 40, 60, 66, 80\n",
    "quantile_probs = [0.2, 0.33, 0.4, 0.6, 0.66, 0.8]\n",
    "quantiles = {}\n",
    "\n",
    "for var in numerical_vars:\n",
    "    quantiles[var] = dftaxytrips_selected.approxQuantile(var, quantile_probs, 0.01)\n",
    "\n",
    "# Convertir a pandas\n",
    "numerical_stats_pd = numerical_stats.toPandas().T.reset_index()\n",
    "numerical_stats_pd.columns = [\"statistic\", \"value\"]\n",
    "numerical_stats_pd[[\"metric\", \"variable\"]] = numerical_stats_pd[\"statistic\"].str.split(\"_\", n=1, expand=True)\n",
    "numerical_stats_summary = numerical_stats_pd.pivot(index=\"variable\", columns=\"metric\", values=\"value\").reset_index()\n",
    "\n",
    "# Agregar los percentiles a la tabla\n",
    "for var in numerical_stats_summary[\"variable\"]:\n",
    "    q_values = quantiles.get(var, [None] * 6)\n",
    "    numerical_stats_summary.loc[numerical_stats_summary[\"variable\"] == var, \"q20\"] = q_values[0]\n",
    "    numerical_stats_summary.loc[numerical_stats_summary[\"variable\"] == var, \"p33\"] = q_values[1]\n",
    "    numerical_stats_summary.loc[numerical_stats_summary[\"variable\"] == var, \"q40\"] = q_values[2]\n",
    "    numerical_stats_summary.loc[numerical_stats_summary[\"variable\"] == var, \"q60\"] = q_values[3]\n",
    "    numerical_stats_summary.loc[numerical_stats_summary[\"variable\"] == var, \"p66\"] = q_values[4]\n",
    "    numerical_stats_summary.loc[numerical_stats_summary[\"variable\"] == var, \"q80\"] = q_values[5]\n"
   ]
  },
  {
   "cell_type": "code",
   "execution_count": 100,
   "metadata": {
    "colab": {
     "base_uri": "https://localhost:8080/",
     "height": 192
    },
    "executionInfo": {
     "elapsed": 44,
     "status": "ok",
     "timestamp": 1746309288791,
     "user": {
      "displayName": "Victoria Raquel Melgarejo Cabrera",
      "userId": "06025313242233497802"
     },
     "user_tz": 300
    },
    "id": "wXrKP8RmzwD0",
    "outputId": "e75a0d4b-3fd6-40bc-d4d9-d4160da34799"
   },
   "outputs": [
    {
     "name": "stdout",
     "output_type": "stream",
     "text": [
      "Estadísticas numéricas:\n"
     ]
    },
    {
     "data": {
      "text/html": [
       "<div>\n",
       "<style scoped>\n",
       "    .dataframe tbody tr th:only-of-type {\n",
       "        vertical-align: middle;\n",
       "    }\n",
       "\n",
       "    .dataframe tbody tr th {\n",
       "        vertical-align: top;\n",
       "    }\n",
       "\n",
       "    .dataframe thead th {\n",
       "        text-align: right;\n",
       "    }\n",
       "</style>\n",
       "<table border=\"1\" class=\"dataframe\">\n",
       "  <thead>\n",
       "    <tr style=\"text-align: right;\">\n",
       "      <th>metric</th>\n",
       "      <th>variable</th>\n",
       "      <th>max</th>\n",
       "      <th>mean</th>\n",
       "      <th>min</th>\n",
       "      <th>stddev</th>\n",
       "      <th>q20</th>\n",
       "      <th>p33</th>\n",
       "      <th>q40</th>\n",
       "      <th>q60</th>\n",
       "      <th>p66</th>\n",
       "      <th>q80</th>\n",
       "    </tr>\n",
       "  </thead>\n",
       "  <tbody>\n",
       "    <tr>\n",
       "      <th>0</th>\n",
       "      <td>duration_minutes</td>\n",
       "      <td>1439.933333</td>\n",
       "      <td>20.914369</td>\n",
       "      <td>0.0</td>\n",
       "      <td>27.465725</td>\n",
       "      <td>6.8</td>\n",
       "      <td>10.00</td>\n",
       "      <td>12.0</td>\n",
       "      <td>20.233333</td>\n",
       "      <td>23.166667</td>\n",
       "      <td>32.000000</td>\n",
       "    </tr>\n",
       "    <tr>\n",
       "      <th>1</th>\n",
       "      <td>tip_per_mile</td>\n",
       "      <td>6040.000000</td>\n",
       "      <td>1.632858</td>\n",
       "      <td>0.0</td>\n",
       "      <td>27.056425</td>\n",
       "      <td>0.0</td>\n",
       "      <td>0.00</td>\n",
       "      <td>0.0</td>\n",
       "      <td>0.517045</td>\n",
       "      <td>0.579800</td>\n",
       "      <td>0.907407</td>\n",
       "    </tr>\n",
       "    <tr>\n",
       "      <th>2</th>\n",
       "      <td>tip_ratio</td>\n",
       "      <td>1515.000000</td>\n",
       "      <td>0.143670</td>\n",
       "      <td>0.0</td>\n",
       "      <td>1.405698</td>\n",
       "      <td>0.0</td>\n",
       "      <td>0.00</td>\n",
       "      <td>0.0</td>\n",
       "      <td>0.195122</td>\n",
       "      <td>0.214286</td>\n",
       "      <td>0.252514</td>\n",
       "    </tr>\n",
       "    <tr>\n",
       "      <th>3</th>\n",
       "      <td>trip_miles</td>\n",
       "      <td>3397.800000</td>\n",
       "      <td>6.802297</td>\n",
       "      <td>0.0</td>\n",
       "      <td>7.957168</td>\n",
       "      <td>0.8</td>\n",
       "      <td>1.43</td>\n",
       "      <td>1.9</td>\n",
       "      <td>6.640000</td>\n",
       "      <td>9.350000</td>\n",
       "      <td>13.500000</td>\n",
       "    </tr>\n",
       "  </tbody>\n",
       "</table>\n",
       "</div>"
      ],
      "text/plain": [
       "metric          variable          max       mean  min     stddev  q20    p33  \\\n",
       "0       duration_minutes  1439.933333  20.914369  0.0  27.465725  6.8  10.00   \n",
       "1           tip_per_mile  6040.000000   1.632858  0.0  27.056425  0.0   0.00   \n",
       "2              tip_ratio  1515.000000   0.143670  0.0   1.405698  0.0   0.00   \n",
       "3             trip_miles  3397.800000   6.802297  0.0   7.957168  0.8   1.43   \n",
       "\n",
       "metric   q40        q60        p66        q80  \n",
       "0       12.0  20.233333  23.166667  32.000000  \n",
       "1        0.0   0.517045   0.579800   0.907407  \n",
       "2        0.0   0.195122   0.214286   0.252514  \n",
       "3        1.9   6.640000   9.350000  13.500000  "
      ]
     },
     "metadata": {},
     "output_type": "display_data"
    }
   ],
   "source": [
    "print(\"Estadísticas numéricas:\")\n",
    "display(numerical_stats_summary)"
   ]
  },
  {
   "cell_type": "code",
   "execution_count": 101,
   "metadata": {
    "id": "10JnbxdyjhCg"
   },
   "outputs": [
    {
     "name": "stderr",
     "output_type": "stream",
     "text": [
      "                                                                                "
     ]
    }
   ],
   "source": [
    "# Estadísticas Categóricas\n",
    "categorical_summary = []\n",
    "for var in categorical_vars:\n",
    "    mode_df = dftaxytrips_selected.groupBy(col(var)).count().orderBy(col(\"count\").desc()).limit(1)\n",
    "    mode_row = mode_df.collect()[0]\n",
    "    unique_count = dftaxytrips_selected.select(approx_count_distinct(col(var)).alias(\"unique_count\")).collect()[0][\"unique_count\"]\n",
    "    categorical_summary.append({\n",
    "        \"variable\": var,\n",
    "        \"unique_values\": unique_count,\n",
    "        \"mode\": mode_row[var],\n",
    "        \"mode_count\": mode_row[\"count\"]\n",
    "    })\n",
    "\n",
    "categorical_stats_summary = pd.DataFrame(categorical_summary)"
   ]
  },
  {
   "cell_type": "code",
   "execution_count": 102,
   "metadata": {
    "colab": {
     "base_uri": "https://localhost:8080/",
     "height": 255
    },
    "executionInfo": {
     "elapsed": 43,
     "status": "ok",
     "timestamp": 1746309719341,
     "user": {
      "displayName": "Victoria Raquel Melgarejo Cabrera",
      "userId": "06025313242233497802"
     },
     "user_tz": 300
    },
    "id": "kZe-cJl9jg8U",
    "outputId": "e4da12a6-c3ec-45c8-a14a-440c36079060"
   },
   "outputs": [
    {
     "name": "stdout",
     "output_type": "stream",
     "text": [
      "Estadísticas categóricas:\n"
     ]
    },
    {
     "data": {
      "text/html": [
       "<div>\n",
       "<style scoped>\n",
       "    .dataframe tbody tr th:only-of-type {\n",
       "        vertical-align: middle;\n",
       "    }\n",
       "\n",
       "    .dataframe tbody tr th {\n",
       "        vertical-align: top;\n",
       "    }\n",
       "\n",
       "    .dataframe thead th {\n",
       "        text-align: right;\n",
       "    }\n",
       "</style>\n",
       "<table border=\"1\" class=\"dataframe\">\n",
       "  <thead>\n",
       "    <tr style=\"text-align: right;\">\n",
       "      <th></th>\n",
       "      <th>variable</th>\n",
       "      <th>unique_values</th>\n",
       "      <th>mode</th>\n",
       "      <th>mode_count</th>\n",
       "    </tr>\n",
       "  </thead>\n",
       "  <tbody>\n",
       "    <tr>\n",
       "      <th>0</th>\n",
       "      <td>trip_hour</td>\n",
       "      <td>25</td>\n",
       "      <td>17</td>\n",
       "      <td>569001</td>\n",
       "    </tr>\n",
       "    <tr>\n",
       "      <th>1</th>\n",
       "      <td>trip_day_of_week</td>\n",
       "      <td>7</td>\n",
       "      <td>5</td>\n",
       "      <td>1304627</td>\n",
       "    </tr>\n",
       "    <tr>\n",
       "      <th>2</th>\n",
       "      <td>payment_group</td>\n",
       "      <td>4</td>\n",
       "      <td>Credit Card</td>\n",
       "      <td>3066154</td>\n",
       "    </tr>\n",
       "    <tr>\n",
       "      <th>3</th>\n",
       "      <td>company_group</td>\n",
       "      <td>7</td>\n",
       "      <td>Other</td>\n",
       "      <td>1901457</td>\n",
       "    </tr>\n",
       "    <tr>\n",
       "      <th>4</th>\n",
       "      <td>pickup_zone_group</td>\n",
       "      <td>5</td>\n",
       "      <td>Other</td>\n",
       "      <td>2570284</td>\n",
       "    </tr>\n",
       "    <tr>\n",
       "      <th>5</th>\n",
       "      <td>dropoff_zone_group</td>\n",
       "      <td>5</td>\n",
       "      <td>Other</td>\n",
       "      <td>3703753</td>\n",
       "    </tr>\n",
       "  </tbody>\n",
       "</table>\n",
       "</div>"
      ],
      "text/plain": [
       "             variable  unique_values         mode  mode_count\n",
       "0           trip_hour             25           17      569001\n",
       "1    trip_day_of_week              7            5     1304627\n",
       "2       payment_group              4  Credit Card     3066154\n",
       "3       company_group              7        Other     1901457\n",
       "4   pickup_zone_group              5        Other     2570284\n",
       "5  dropoff_zone_group              5        Other     3703753"
      ]
     },
     "metadata": {},
     "output_type": "display_data"
    }
   ],
   "source": [
    "print(\"Estadísticas categóricas:\")\n",
    "display(categorical_stats_summary)"
   ]
  },
  {
   "cell_type": "markdown",
   "metadata": {
    "id": "ranmTK_V_4uY"
   },
   "source": [
    "Para las variables numéricas se optó por crear segmentos basado en los quintiles:"
   ]
  },
  {
   "cell_type": "code",
   "execution_count": 103,
   "metadata": {
    "id": "LoFhkJOFAGRf"
   },
   "outputs": [],
   "source": [
    "# Duración del viaje (en minutos)\n",
    "dftaxytrips_selected = dftaxytrips_selected.withColumn(\n",
    "    \"duration_group\",\n",
    "    (\n",
    "        when(col(\"duration_minutes\") <= 10.0, \"Flash Riders\")           # viajes muy cortos, de alta rotación\n",
    "        .when(col(\"duration_minutes\") <= 23.2, \"Urban Cruisers\")        # trayectos típicos dentro de la ciudad\n",
    "        .otherwise(\"Long-Haul Nomads\")                                  # trayectos largos, posiblemente entre distritos lejanos\n",
    "    )\n",
    ")\n",
    "\n",
    "# Propina por milla\n",
    "dftaxytrips_selected = dftaxytrips_selected.withColumn(\n",
    "    \"tip_per_mile_group\",\n",
    "    (\n",
    "        when(col(\"tip_per_mile\") <= 0.0, \"Non-Tippers\")                 # usuarios que no dan propina\n",
    "        .when(col(\"tip_per_mile\") <= 0.58, \"Appreciative Riders\")       # dan propina moderada por distancia\n",
    "        .otherwise(\"Tip Enthusiasts\")                                   # viajeros generosos por cada milla recorrida\n",
    "    )\n",
    ")\n",
    "\n",
    "# Ratio de propina sobre la tarifa\n",
    "dftaxytrips_selected = dftaxytrips_selected.withColumn(\n",
    "    \"tip_ratio_group\",\n",
    "    (\n",
    "        when(col(\"tip_ratio\") <= 0.0, \"Flat Fare Clients\")              # no dejan propina\n",
    "        .when(col(\"tip_ratio\") <= 0.21, \"Grateful Givers\")              # propina moderada sobre el total\n",
    "        .otherwise(\"High-Spirit Donors\")                                # usuarios con alto ratio de agradecimiento\n",
    "    )\n",
    ")\n",
    "\n",
    "# Distancia del viaje (en millas)\n",
    "dftaxytrips_selected = dftaxytrips_selected.withColumn(\n",
    "    \"trip_miles_group\",\n",
    "    (\n",
    "        when(col(\"trip_miles\") <= 1.4, \"Neighborhood Navigators\")       # distancias muy cortas dentro de la zona\n",
    "        .when(col(\"trip_miles\") <= 9.4, \"City Explorers\")               # distancias promedio en la ciudad\n",
    "        .otherwise(\"Wide-Radius Riders\")                                # trayectos amplios, posibles traslados al aeropuerto o periferia\n",
    "    )\n",
    ")"
   ]
  },
  {
   "cell_type": "code",
   "execution_count": 104,
   "metadata": {
    "colab": {
     "base_uri": "https://localhost:8080/"
    },
    "executionInfo": {
     "elapsed": 247,
     "status": "ok",
     "timestamp": 1746309930403,
     "user": {
      "displayName": "Victoria Raquel Melgarejo Cabrera",
      "userId": "06025313242233497802"
     },
     "user_tz": 300
    },
    "id": "SHCkVkskLrDe",
    "outputId": "30b20989-4535-4f14-f66a-6ed9e2cd94c1"
   },
   "outputs": [
    {
     "data": {
      "text/html": [
       "<div>\n",
       "<style scoped>\n",
       "    .dataframe tbody tr th:only-of-type {\n",
       "        vertical-align: middle;\n",
       "    }\n",
       "\n",
       "    .dataframe tbody tr th {\n",
       "        vertical-align: top;\n",
       "    }\n",
       "\n",
       "    .dataframe thead th {\n",
       "        text-align: right;\n",
       "    }\n",
       "</style>\n",
       "<table border=\"1\" class=\"dataframe\">\n",
       "  <thead>\n",
       "    <tr style=\"text-align: right;\">\n",
       "      <th></th>\n",
       "      <th>trip_id</th>\n",
       "      <th>trip_hour</th>\n",
       "      <th>trip_day_of_week</th>\n",
       "      <th>duration_minutes</th>\n",
       "      <th>trip_miles</th>\n",
       "      <th>tip_ratio</th>\n",
       "      <th>tip_per_mile</th>\n",
       "      <th>payment_group</th>\n",
       "      <th>company_group</th>\n",
       "      <th>pickup_zone_group</th>\n",
       "      <th>dropoff_zone_group</th>\n",
       "      <th>duration_group</th>\n",
       "      <th>tip_per_mile_group</th>\n",
       "      <th>tip_ratio_group</th>\n",
       "      <th>trip_miles_group</th>\n",
       "    </tr>\n",
       "  </thead>\n",
       "  <tbody>\n",
       "    <tr>\n",
       "      <th>0</th>\n",
       "      <td>0000184e7cd53cee95af32eba49c44e4d20adcd8</td>\n",
       "      <td>17</td>\n",
       "      <td>6</td>\n",
       "      <td>67.516667</td>\n",
       "      <td>17.12</td>\n",
       "      <td>0.219780</td>\n",
       "      <td>0.584112</td>\n",
       "      <td>Credit Card</td>\n",
       "      <td>Flash Cab</td>\n",
       "      <td>76</td>\n",
       "      <td>32</td>\n",
       "      <td>Long-Haul Nomads</td>\n",
       "      <td>Tip Enthusiasts</td>\n",
       "      <td>High-Spirit Donors</td>\n",
       "      <td>Wide-Radius Riders</td>\n",
       "    </tr>\n",
       "    <tr>\n",
       "      <th>1</th>\n",
       "      <td>000072ee076c9038868e239ca54185eb43959db0</td>\n",
       "      <td>14</td>\n",
       "      <td>1</td>\n",
       "      <td>29.150000</td>\n",
       "      <td>12.70</td>\n",
       "      <td>0.000000</td>\n",
       "      <td>0.000000</td>\n",
       "      <td>Cash</td>\n",
       "      <td>Flash Cab</td>\n",
       "      <td>Other</td>\n",
       "      <td>Other</td>\n",
       "      <td>Long-Haul Nomads</td>\n",
       "      <td>Non-Tippers</td>\n",
       "      <td>Flat Fare Clients</td>\n",
       "      <td>Wide-Radius Riders</td>\n",
       "    </tr>\n",
       "    <tr>\n",
       "      <th>2</th>\n",
       "      <td>000074019d598c2b1d6e77fbae79e40b0461a2fc</td>\n",
       "      <td>9</td>\n",
       "      <td>6</td>\n",
       "      <td>8.616667</td>\n",
       "      <td>3.39</td>\n",
       "      <td>0.254812</td>\n",
       "      <td>0.820059</td>\n",
       "      <td>Mobile</td>\n",
       "      <td>Insurance Agency</td>\n",
       "      <td>Other</td>\n",
       "      <td>8</td>\n",
       "      <td>Flash Riders</td>\n",
       "      <td>Tip Enthusiasts</td>\n",
       "      <td>High-Spirit Donors</td>\n",
       "      <td>City Explorers</td>\n",
       "    </tr>\n",
       "    <tr>\n",
       "      <th>3</th>\n",
       "      <td>00007572c5f92e2ff067e6f838a5ad74e83665d3</td>\n",
       "      <td>8</td>\n",
       "      <td>2</td>\n",
       "      <td>34.166667</td>\n",
       "      <td>15.06</td>\n",
       "      <td>0.288153</td>\n",
       "      <td>0.750996</td>\n",
       "      <td>Credit Card</td>\n",
       "      <td>Other</td>\n",
       "      <td>76</td>\n",
       "      <td>Other</td>\n",
       "      <td>Long-Haul Nomads</td>\n",
       "      <td>Tip Enthusiasts</td>\n",
       "      <td>High-Spirit Donors</td>\n",
       "      <td>Wide-Radius Riders</td>\n",
       "    </tr>\n",
       "    <tr>\n",
       "      <th>4</th>\n",
       "      <td>00007c3e7546e2c7d15168586943a9c22c3856cf</td>\n",
       "      <td>19</td>\n",
       "      <td>5</td>\n",
       "      <td>16.733333</td>\n",
       "      <td>1.18</td>\n",
       "      <td>0.233375</td>\n",
       "      <td>3.152542</td>\n",
       "      <td>Mobile</td>\n",
       "      <td>Other</td>\n",
       "      <td>32</td>\n",
       "      <td>32</td>\n",
       "      <td>Urban Cruisers</td>\n",
       "      <td>Tip Enthusiasts</td>\n",
       "      <td>High-Spirit Donors</td>\n",
       "      <td>Neighborhood Navigators</td>\n",
       "    </tr>\n",
       "  </tbody>\n",
       "</table>\n",
       "</div>"
      ],
      "text/plain": [
       "<IPython.core.display.HTML object>"
      ]
     },
     "metadata": {},
     "output_type": "display_data"
    }
   ],
   "source": [
    "pretty_display(dftaxytrips_selected, 5)"
   ]
  },
  {
   "cell_type": "markdown",
   "metadata": {
    "id": "8p1No4yW29ql"
   },
   "source": [
    "### **Regla de Particionamiento**"
   ]
  },
  {
   "cell_type": "markdown",
   "metadata": {
    "id": "kibtyqeSDksz"
   },
   "source": [
    "Dado que nuestro objetivo está enfocado en analizar las propinas (tips) en los viajes de taxi de Chicago y predecir patrones relevantes, hemos considerado estas tres variables:\n",
    "\n",
    "\n",
    "*   **`payment_group`:** Agrupación del método de pago Credit Card, Cash, Mobile, Other. Se considera clave debido a la fuerte relación entre pagos con tarjeta y la propina otorgada.\n",
    "*   **`pickup_zone_group`:** \tAgrupación de zonas de recojo, áreas específicas (76, 8, 32, 28) y un grupo \"Other\" que incluye las demás zonas. Representa un proxy de ubicación socioeconómica o comercial.\n",
    "*   **`duration_group`:** Clasificación de duración del viaje Flash Riders (≤10 min), Urban Cruisers (10–23.2 min), Long-Haul Nomads (>23.2 min). Captura la intensidad y contexto del trayecto.\n",
    "\n",
    "Asimismo, consideramos que estas variables permiten capturar factores clave de comportamiento relacionados con la decisión del pasajero de dejar una propina."
   ]
  },
  {
   "cell_type": "code",
   "execution_count": 105,
   "metadata": {},
   "outputs": [],
   "source": [
    "def categorical_summary(df, column):\n",
    "    # Total count of non-null values\n",
    "    count = df.filter(F.col(column).isNotNull()).count()\n",
    " \n",
    "    # Count of distinct values\n",
    "    unique = df.select(column).distinct().count()\n",
    " \n",
    "    # Most frequent value and its frequency\n",
    "    top_row = (df.groupBy(column)\n",
    "                 .agg(F.count(\"*\").alias(\"freq\"))\n",
    "                 .orderBy(F.desc(\"freq\"))\n",
    "                 .first())\n",
    " \n",
    "    top = top_row[column] if top_row else None\n",
    "    freq = top_row[\"freq\"] if top_row else 0\n",
    " \n",
    "    # Create a summary dictionary\n",
    "    summary = {\n",
    "        \"count\": count,\n",
    "        \"unique\": unique,\n",
    "        \"top\": top,\n",
    "        \"freq\": freq\n",
    "    }\n",
    " \n",
    "    return summary"
   ]
  },
  {
   "cell_type": "code",
   "execution_count": 106,
   "metadata": {},
   "outputs": [
    {
     "name": "stderr",
     "output_type": "stream",
     "text": [
      "                                                                                "
     ]
    },
    {
     "name": "stdout",
     "output_type": "stream",
     "text": [
      "payment_group - {'count': 7917844, 'unique': 4, 'top': 'Credit Card', 'freq': 3066154}\n"
     ]
    },
    {
     "name": "stderr",
     "output_type": "stream",
     "text": [
      "                                                                                "
     ]
    },
    {
     "name": "stdout",
     "output_type": "stream",
     "text": [
      "pickup_zone_group - {'count': 7917844, 'unique': 5, 'top': 'Other', 'freq': 2570284}\n"
     ]
    },
    {
     "name": "stderr",
     "output_type": "stream",
     "text": [
      "[Stage 485:===================================>                   (16 + 8) / 25]"
     ]
    },
    {
     "name": "stdout",
     "output_type": "stream",
     "text": [
      "duration_group - {'count': 7917844, 'unique': 3, 'top': 'Long-Haul Nomads', 'freq': 2704954}\n"
     ]
    },
    {
     "name": "stderr",
     "output_type": "stream",
     "text": [
      "                                                                                "
     ]
    }
   ],
   "source": [
    "for col in [\"payment_group\", \"pickup_zone_group\", \"duration_group\"]:\n",
    "    print(f'{col} - {categorical_summary(dftaxytrips_selected, col)}')"
   ]
  },
  {
   "cell_type": "code",
   "execution_count": 109,
   "metadata": {
    "colab": {
     "base_uri": "https://localhost:8080/"
    },
    "executionInfo": {
     "elapsed": 45003,
     "status": "ok",
     "timestamp": 1746310142381,
     "user": {
      "displayName": "Victoria Raquel Melgarejo Cabrera",
      "userId": "06025313242233497802"
     },
     "user_tz": 300
    },
    "id": "u65XAmYv0X6W",
    "outputId": "a00b5ac1-9257-4180-c1bf-8a6b50cd1f46"
   },
   "outputs": [
    {
     "name": "stderr",
     "output_type": "stream",
     "text": [
      "[Stage 494:===================================>                   (16 + 8) / 25]"
     ]
    },
    {
     "name": "stdout",
     "output_type": "stream",
     "text": [
      "+-------------+-----------------+----------------+------+--------------------+\n",
      "|payment_group|pickup_zone_group|  duration_group| count|          proportion|\n",
      "+-------------+-----------------+----------------+------+--------------------+\n",
      "|  Credit Card|               76|Long-Haul Nomads|932975| 0.11783195021270942|\n",
      "|        Other|            Other|  Urban Cruisers|447445|0.056510964348375645|\n",
      "|        Other|            Other|Long-Haul Nomads|430300| 0.05434560216139646|\n",
      "|         Cash|            Other|    Flash Riders|310727| 0.03924389012968682|\n",
      "|         Cash|                8|    Flash Riders|306484| 0.03870801192849973|\n",
      "|  Credit Card|               32|    Flash Riders|291907|0.036866980455790746|\n",
      "|  Credit Card|                8|    Flash Riders|276498| 0.03492086987316244|\n",
      "|         Cash|               32|    Flash Riders|255828| 0.03231031073610442|\n",
      "|       Mobile|                8|    Flash Riders|225234|0.028446380100441485|\n",
      "|  Credit Card|            Other|Long-Haul Nomads|211482|0.026709543658602012|\n",
      "|         Cash|               76|Long-Haul Nomads|206082| 0.02602753982018337|\n",
      "|         Cash|            Other|Long-Haul Nomads|204511|0.025829127222006396|\n",
      "|       Mobile|            Other|  Urban Cruisers|203136| 0.02565546883722387|\n",
      "|  Credit Card|               76|  Urban Cruisers|199551|0.025202694066718163|\n",
      "|         Cash|            Other|  Urban Cruisers|195197|0.024652796897741355|\n",
      "|  Credit Card|                8|  Urban Cruisers|183299|0.023150115107092285|\n",
      "|       Mobile|                8|  Urban Cruisers|179045|0.022612847638826934|\n",
      "|  Credit Card|            Other|  Urban Cruisers|162146|0.020478554515597932|\n",
      "|         Cash|                8|  Urban Cruisers|159553| 0.02015106637614987|\n",
      "|  Credit Card|               28|    Flash Riders|158992|0.020080213755158602|\n",
      "|  Credit Card|               32|  Urban Cruisers|154175|0.019471841071887753|\n",
      "|         Cash|               28|    Flash Riders|142729|0.018026245528454464|\n",
      "|  Credit Card|            Other|    Flash Riders|138692|0.017516384510732973|\n",
      "|       Mobile|               32|    Flash Riders|126880|0.016024564262695756|\n",
      "|       Mobile|               32|  Urban Cruisers|100063|0.012637657422904519|\n",
      "|       Mobile|            Other|Long-Haul Nomads| 99077| 0.01251312857388956|\n",
      "|         Cash|               32|  Urban Cruisers| 97633| 0.01233075569561613|\n",
      "|       Mobile|               76|Long-Haul Nomads| 94029|0.011875581281975245|\n",
      "|  Credit Card|               28|  Urban Cruisers| 93966|0.011867624570527027|\n",
      "|  Credit Card|               32|Long-Haul Nomads| 86404|0.010912566602726702|\n",
      "|       Mobile|            Other|    Flash Riders| 85058|  0.0107425708311505|\n",
      "|  Credit Card|                8|Long-Haul Nomads| 84158|0.010628903524747393|\n",
      "|        Other|            Other|    Flash Riders| 82513|0.010421144948043937|\n",
      "|         Cash|               28|  Urban Cruisers| 80483|0.010164762023601375|\n",
      "|  Credit Card|               76|    Flash Riders| 74094|0.009357850445146431|\n",
      "|         Cash|               76|  Urban Cruisers| 71889|0.009079365544458819|\n",
      "|        Other|                8|  Urban Cruisers| 70838|0.008946627389981414|\n",
      "|         Cash|               76|    Flash Riders| 69526|0.008780925716647108|\n",
      "|       Mobile|               28|  Urban Cruisers| 67630|0.008541466591157896|\n",
      "|       Mobile|               28|    Flash Riders| 55853|0.007054066738369688|\n",
      "|        Other|                8|Long-Haul Nomads| 55342|0.006989528967734...|\n",
      "|         Cash|                8|Long-Haul Nomads| 52891|0.006679975003296352|\n",
      "|        Other|               28|  Urban Cruisers| 45487|0.005744871962620127|\n",
      "|       Mobile|                8|Long-Haul Nomads| 43273|0.005465250388868485|\n",
      "|        Other|               28|Long-Haul Nomads| 41299|0.005215940096824337|\n",
      "|        Other|               32|  Urban Cruisers| 35928| 0.00453759887161202|\n",
      "|         Cash|               32|Long-Haul Nomads| 35077|0.004430120118557527|\n",
      "|        Other|               32|Long-Haul Nomads| 33658|0.004250904665461961|\n",
      "|       Mobile|               32|Long-Haul Nomads| 27842|0.003516361272083...|\n",
      "|         Cash|               28|Long-Haul Nomads| 25285|0.003193419824891...|\n",
      "|        Other|                8|    Flash Riders| 22324|0.002819454386825...|\n",
      "|  Credit Card|               28|Long-Haul Nomads| 17815|0.002249981181745...|\n",
      "|       Mobile|               76|  Urban Cruisers| 15166|0.001915420409899...|\n",
      "|       Mobile|               28|Long-Haul Nomads| 14458|0.001826002128862352|\n",
      "|        Other|               32|    Flash Riders|  9440|0.001192243747161...|\n",
      "|        Other|               76|Long-Haul Nomads|  8996|0.001136167876002...|\n",
      "|        Other|               28|    Flash Riders|  8300|0.001048265159050873|\n",
      "|        Other|               76|  Urban Cruisers|  5098|6.438621422700422E-4|\n",
      "|        Other|               76|    Flash Riders|  2060|2.601718346559997...|\n",
      "|       Mobile|               76|    Flash Riders|  2023|2.554988453927609...|\n",
      "+-------------+-----------------+----------------+------+--------------------+\n",
      "\n"
     ]
    },
    {
     "name": "stderr",
     "output_type": "stream",
     "text": [
      "                                                                                "
     ]
    }
   ],
   "source": [
    "# Agrupar por las variables clave\n",
    "partition_counts = dftaxytrips_selected.groupBy(\n",
    "    \"payment_group\", \"pickup_zone_group\", \"duration_group\"\n",
    ").agg(count(\"*\").alias(\"count\"))\n",
    "\n",
    "# Calcular total general\n",
    "total_count = dftaxytrips_selected.count()\n",
    "\n",
    "# Agregar proporción por combinación\n",
    "partition_counts = partition_counts.withColumn(\n",
    "    \"proportion\", col(\"count\") / total_count\n",
    ")\n",
    "\n",
    "# Ordenar por las más representativas\n",
    "partition_counts.orderBy(col(\"proportion\").desc()).show(60)\n"
   ]
  },
  {
   "cell_type": "markdown",
   "metadata": {
    "id": "tt_qkh71QX34"
   },
   "source": [
    "**Partición R1**\n",
    "\n",
    "***Método de pago:*** Credit Card\n",
    "\n",
    "***Zona de recojo:*** 76 (zona de aeropuerto o zona turística - O'Hare)\n",
    "\n",
    "***Duración del viaje:*** Long-Haul Nomads (>23.2 minutos)\n",
    "\n",
    "***Proporción:*** 11.78%\n",
    "\n",
    "***Comentario:*** Este perfil representa a viajeros de trayectos largos con tarjeta, posiblemente turistas o usuarios de aeropuerto; alta posibilidad de propina elevada."
   ]
  },
  {
   "cell_type": "markdown",
   "metadata": {
    "id": "6RaPEv3N3B-k"
   },
   "source": [
    "### **Técnica de Muestreo**"
   ]
  },
  {
   "cell_type": "code",
   "execution_count": 110,
   "metadata": {
    "id": "FWdNGvYp3H-7"
   },
   "outputs": [
    {
     "name": "stderr",
     "output_type": "stream",
     "text": [
      "[Stage 497:===================================>                   (16 + 8) / 25]"
     ]
    },
    {
     "name": "stdout",
     "output_type": "stream",
     "text": [
      "Registers count: 932975\n"
     ]
    },
    {
     "name": "stderr",
     "output_type": "stream",
     "text": [
      "                                                                                "
     ]
    },
    {
     "data": {
      "text/html": [
       "<div>\n",
       "<style scoped>\n",
       "    .dataframe tbody tr th:only-of-type {\n",
       "        vertical-align: middle;\n",
       "    }\n",
       "\n",
       "    .dataframe tbody tr th {\n",
       "        vertical-align: top;\n",
       "    }\n",
       "\n",
       "    .dataframe thead th {\n",
       "        text-align: right;\n",
       "    }\n",
       "</style>\n",
       "<table border=\"1\" class=\"dataframe\">\n",
       "  <thead>\n",
       "    <tr style=\"text-align: right;\">\n",
       "      <th></th>\n",
       "      <th>trip_id</th>\n",
       "      <th>trip_hour</th>\n",
       "      <th>trip_day_of_week</th>\n",
       "      <th>duration_minutes</th>\n",
       "      <th>trip_miles</th>\n",
       "      <th>tip_ratio</th>\n",
       "      <th>tip_per_mile</th>\n",
       "      <th>payment_group</th>\n",
       "      <th>company_group</th>\n",
       "      <th>pickup_zone_group</th>\n",
       "      <th>dropoff_zone_group</th>\n",
       "      <th>duration_group</th>\n",
       "      <th>tip_per_mile_group</th>\n",
       "      <th>tip_ratio_group</th>\n",
       "      <th>trip_miles_group</th>\n",
       "    </tr>\n",
       "  </thead>\n",
       "  <tbody>\n",
       "    <tr>\n",
       "      <th>0</th>\n",
       "      <td>0000184e7cd53cee95af32eba49c44e4d20adcd8</td>\n",
       "      <td>17</td>\n",
       "      <td>6</td>\n",
       "      <td>67.516667</td>\n",
       "      <td>17.12</td>\n",
       "      <td>0.219780</td>\n",
       "      <td>0.584112</td>\n",
       "      <td>Credit Card</td>\n",
       "      <td>Flash Cab</td>\n",
       "      <td>76</td>\n",
       "      <td>32</td>\n",
       "      <td>Long-Haul Nomads</td>\n",
       "      <td>Tip Enthusiasts</td>\n",
       "      <td>High-Spirit Donors</td>\n",
       "      <td>Wide-Radius Riders</td>\n",
       "    </tr>\n",
       "    <tr>\n",
       "      <th>1</th>\n",
       "      <td>00007572c5f92e2ff067e6f838a5ad74e83665d3</td>\n",
       "      <td>8</td>\n",
       "      <td>2</td>\n",
       "      <td>34.166667</td>\n",
       "      <td>15.06</td>\n",
       "      <td>0.288153</td>\n",
       "      <td>0.750996</td>\n",
       "      <td>Credit Card</td>\n",
       "      <td>Other</td>\n",
       "      <td>76</td>\n",
       "      <td>Other</td>\n",
       "      <td>Long-Haul Nomads</td>\n",
       "      <td>Tip Enthusiasts</td>\n",
       "      <td>High-Spirit Donors</td>\n",
       "      <td>Wide-Radius Riders</td>\n",
       "    </tr>\n",
       "    <tr>\n",
       "      <th>2</th>\n",
       "      <td>0003add631b15f0dce6b59ccfe67b3ebaaf09ba4</td>\n",
       "      <td>19</td>\n",
       "      <td>1</td>\n",
       "      <td>27.333333</td>\n",
       "      <td>18.28</td>\n",
       "      <td>0.220225</td>\n",
       "      <td>0.536105</td>\n",
       "      <td>Credit Card</td>\n",
       "      <td>Insurance Agency</td>\n",
       "      <td>76</td>\n",
       "      <td>8</td>\n",
       "      <td>Long-Haul Nomads</td>\n",
       "      <td>Appreciative Riders</td>\n",
       "      <td>High-Spirit Donors</td>\n",
       "      <td>Wide-Radius Riders</td>\n",
       "    </tr>\n",
       "    <tr>\n",
       "      <th>3</th>\n",
       "      <td>000628749a1a6d4cb012c0e5726beeaf0eefd433</td>\n",
       "      <td>16</td>\n",
       "      <td>6</td>\n",
       "      <td>45.033333</td>\n",
       "      <td>28.24</td>\n",
       "      <td>0.220588</td>\n",
       "      <td>0.531161</td>\n",
       "      <td>Credit Card</td>\n",
       "      <td>Insurance Agency</td>\n",
       "      <td>76</td>\n",
       "      <td>Other</td>\n",
       "      <td>Long-Haul Nomads</td>\n",
       "      <td>Appreciative Riders</td>\n",
       "      <td>High-Spirit Donors</td>\n",
       "      <td>Wide-Radius Riders</td>\n",
       "    </tr>\n",
       "    <tr>\n",
       "      <th>4</th>\n",
       "      <td>0008253c00e059ff3bfac5763c556ebe83e618a5</td>\n",
       "      <td>18</td>\n",
       "      <td>1</td>\n",
       "      <td>46.866667</td>\n",
       "      <td>21.19</td>\n",
       "      <td>0.276538</td>\n",
       "      <td>0.678622</td>\n",
       "      <td>Credit Card</td>\n",
       "      <td>Chicago Independents</td>\n",
       "      <td>76</td>\n",
       "      <td>Other</td>\n",
       "      <td>Long-Haul Nomads</td>\n",
       "      <td>Tip Enthusiasts</td>\n",
       "      <td>High-Spirit Donors</td>\n",
       "      <td>Wide-Radius Riders</td>\n",
       "    </tr>\n",
       "  </tbody>\n",
       "</table>\n",
       "</div>"
      ],
      "text/plain": [
       "<IPython.core.display.HTML object>"
      ]
     },
     "metadata": {},
     "output_type": "display_data"
    }
   ],
   "source": [
    "taxitrips_r1 = dftaxytrips_selected.filter(\n",
    "    (col(\"payment_group\") == \"Credit Card\") &\n",
    "    (col(\"pickup_zone_group\") == \"76\") &\n",
    "    (col(\"duration_group\") == \"Long-Haul Nomads\")\n",
    ")\n",
    "print(f'Registers count: {taxitrips_r1.count()}')\n",
    "pretty_display(taxitrips_r1, 5)"
   ]
  },
  {
   "cell_type": "code",
   "execution_count": 111,
   "metadata": {},
   "outputs": [
    {
     "name": "stderr",
     "output_type": "stream",
     "text": [
      "                                                                                "
     ]
    },
    {
     "data": {
      "text/html": [
       "<div>\n",
       "<style scoped>\n",
       "    .dataframe tbody tr th:only-of-type {\n",
       "        vertical-align: middle;\n",
       "    }\n",
       "\n",
       "    .dataframe tbody tr th {\n",
       "        vertical-align: top;\n",
       "    }\n",
       "\n",
       "    .dataframe thead th {\n",
       "        text-align: right;\n",
       "    }\n",
       "</style>\n",
       "<table border=\"1\" class=\"dataframe\">\n",
       "  <thead>\n",
       "    <tr style=\"text-align: right;\">\n",
       "      <th></th>\n",
       "      <th>tip_ratio_group</th>\n",
       "      <th>count</th>\n",
       "    </tr>\n",
       "  </thead>\n",
       "  <tbody>\n",
       "    <tr>\n",
       "      <th>0</th>\n",
       "      <td>Flat Fare Clients</td>\n",
       "      <td>46515</td>\n",
       "    </tr>\n",
       "    <tr>\n",
       "      <th>1</th>\n",
       "      <td>Grateful Givers</td>\n",
       "      <td>207628</td>\n",
       "    </tr>\n",
       "    <tr>\n",
       "      <th>2</th>\n",
       "      <td>High-Spirit Donors</td>\n",
       "      <td>678832</td>\n",
       "    </tr>\n",
       "  </tbody>\n",
       "</table>\n",
       "</div>"
      ],
      "text/plain": [
       "<IPython.core.display.HTML object>"
      ]
     },
     "metadata": {},
     "output_type": "display_data"
    }
   ],
   "source": [
    "pretty_display(taxitrips_r1.groupBy(\"tip_ratio_group\").count())"
   ]
  },
  {
   "cell_type": "markdown",
   "metadata": {},
   "source": [
    "Dado que los grupos definidos a partir de nuestras variables de particionamiento presentan diferencias significativas en el número de registros, se ha optado por aplicar un muestreo por estratificación. Esta técnica permite garantizar que cada grupo (estrato) esté proporcionalmente representado en la muestra, evitando sesgos que podrían derivar en modelos sobreentrenados en clases dominantes o subentrenados en clases minoritarias.\n",
    "\n",
    "En particular, como el objetivo central del análisis es estudiar los factores que influyen en el comportamiento de las propinas, resulta fundamental asegurar una adecuada representación de los distintos niveles de la variable `tips_ratio` —la cual fue construida como el cociente entre Tips y Fare, reflejando la proporción de propina con respecto al costo del viaje. Para facilitar su análisis y segmentación, esta variable fue transformada mediante binning en una nueva variable categórica denominada `tip_ratio_group`, con tres grupos definidos: `\"Flat Fare Clients\"` (usuarios que no dejan propina), `\"Grateful Givers\"` (propina moderada) y `\"High-Spirit Donors\"` (propina alta). La correcta representación de estos grupos en cada partición es clave para capturar patrones relevantes y evitar sesgos en el aprendizaje supervisado."
   ]
  }
 ],
 "metadata": {
  "colab": {
   "provenance": []
  },
  "kernelspec": {
   "display_name": "Python 3 (ipykernel)",
   "language": "python",
   "name": "python3"
  },
  "language_info": {
   "codemirror_mode": {
    "name": "ipython",
    "version": 3
   },
   "file_extension": ".py",
   "mimetype": "text/x-python",
   "name": "python",
   "nbconvert_exporter": "python",
   "pygments_lexer": "ipython3",
   "version": "3.12.9"
  }
 },
 "nbformat": 4,
 "nbformat_minor": 4
}
